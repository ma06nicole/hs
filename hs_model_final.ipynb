{
  "cells": [
    {
      "cell_type": "markdown",
      "metadata": {
        "id": "view-in-github",
        "colab_type": "text"
      },
      "source": [
        "<a href=\"https://colab.research.google.com/github/ma06nicole/hs/blob/master/hs_model_final.ipynb\" target=\"_parent\"><img src=\"https://colab.research.google.com/assets/colab-badge.svg\" alt=\"Open In Colab\"/></a>"
      ]
    },
    {
      "cell_type": "code",
      "execution_count": null,
      "metadata": {
        "id": "SXQaLk2hyoiZ"
      },
      "outputs": [],
      "source": [
        "import tensorflow as tf\n",
        "import numpy as np\n",
        "import pandas as pd\n",
        "import matplotlib.pyplot as plt\n",
        "from sklearn.model_selection import train_test_split\n",
        "import tensorflow_datasets as tfds\n",
        "import tensorflow_hub as hub\n",
        "from tensorflow import keras"
      ]
    },
    {
      "cell_type": "code",
      "execution_count": null,
      "metadata": {
        "colab": {
          "base_uri": "https://localhost:8080/"
        },
        "id": "d4Jptj8QysHE",
        "outputId": "d35b445b-5de8-48ff-ac0d-9623ced2abcf"
      },
      "outputs": [
        {
          "name": "stdout",
          "output_type": "stream",
          "text": [
            "Mounted at /content/drive\n"
          ]
        }
      ],
      "source": [
        "from google.colab import drive\n",
        "drive.mount('/content/drive')"
      ]
    },
    {
      "cell_type": "markdown",
      "metadata": {
        "id": "0f7VgTptyzmq"
      },
      "source": [
        "## hs"
      ]
    },
    {
      "cell_type": "code",
      "execution_count": null,
      "metadata": {
        "id": "tNc83412y2W6"
      },
      "outputs": [],
      "source": [
        "hs_dataset = pd.read_csv(\"/content/drive/My Drive/hate_speech_datasets/hs.csv\")"
      ]
    },
    {
      "cell_type": "code",
      "execution_count": null,
      "metadata": {
        "id": "xDApXWo9zBWA"
      },
      "outputs": [],
      "source": [
        "hs = pd.DataFrame(hs_dataset[\"tweet\"])"
      ]
    },
    {
      "cell_type": "code",
      "execution_count": null,
      "metadata": {
        "colab": {
          "base_uri": "https://localhost:8080/"
        },
        "id": "940q_plXzEJu",
        "outputId": "25d61c4e-83d2-4642-8991-77461fc63f5d"
      },
      "outputs": [
        {
          "data": {
            "text/plain": [
              "(5647, 1)"
            ]
          },
          "execution_count": 5,
          "metadata": {},
          "output_type": "execute_result"
        }
      ],
      "source": [
        "hs.shape"
      ]
    },
    {
      "cell_type": "code",
      "execution_count": null,
      "metadata": {
        "id": "eEGCPab5zGR9"
      },
      "outputs": [],
      "source": [
        "d = pd.DataFrame(np.ones((5647,1)))\n",
        "hs = pd.concat([hs, d], axis=1)"
      ]
    },
    {
      "cell_type": "code",
      "execution_count": null,
      "metadata": {
        "colab": {
          "base_uri": "https://localhost:8080/"
        },
        "id": "Cdjysi9NzRDG",
        "outputId": "2d4f4337-99fa-475b-f1ec-26d682955ff9"
      },
      "outputs": [
        {
          "data": {
            "text/plain": [
              "<bound method NDFrame.head of                                                   tweet    0\n",
              "0                call sis im boy girl still faggot shut  1.0\n",
              "1                  @user @user legit nilas retarded idk  1.0\n",
              "2                                      said retard @url  1.0\n",
              "3     america another 8 years obama's ideology via h...  1.0\n",
              "4                   @user don... fucking made cry twat.  1.0\n",
              "...                                                 ...  ...\n",
              "5642                            @user @user retard :) x  1.0\n",
              "5643  i'm hole sir i'm faggot sir i'm clit sir i'm h...  1.0\n",
              "5644  (2/2) like fucking twat i'm damage heal you. r...  1.0\n",
              "5645                            bf retarded guess u r 2  1.0\n",
              "5646                 @user whats ching chong stuff mean  1.0\n",
              "\n",
              "[5647 rows x 2 columns]>"
            ]
          },
          "execution_count": 7,
          "metadata": {},
          "output_type": "execute_result"
        }
      ],
      "source": [
        "hs.head"
      ]
    },
    {
      "cell_type": "code",
      "execution_count": null,
      "metadata": {
        "id": "clQKBsoozR00"
      },
      "outputs": [],
      "source": [
        "hs.columns = [\"tweet\" , \"hate_index\"]"
      ]
    },
    {
      "cell_type": "code",
      "execution_count": null,
      "metadata": {
        "colab": {
          "base_uri": "https://localhost:8080/"
        },
        "id": "DqGsPBUNzT3x",
        "outputId": "b74db030-9c40-44ae-cad9-0d635b0c303a"
      },
      "outputs": [
        {
          "data": {
            "text/plain": [
              "<bound method NDFrame.head of                                                   tweet  hate_index\n",
              "0                call sis im boy girl still faggot shut         1.0\n",
              "1                  @user @user legit nilas retarded idk         1.0\n",
              "2                                      said retard @url         1.0\n",
              "3     america another 8 years obama's ideology via h...         1.0\n",
              "4                   @user don... fucking made cry twat.         1.0\n",
              "...                                                 ...         ...\n",
              "5642                            @user @user retard :) x         1.0\n",
              "5643  i'm hole sir i'm faggot sir i'm clit sir i'm h...         1.0\n",
              "5644  (2/2) like fucking twat i'm damage heal you. r...         1.0\n",
              "5645                            bf retarded guess u r 2         1.0\n",
              "5646                 @user whats ching chong stuff mean         1.0\n",
              "\n",
              "[5647 rows x 2 columns]>"
            ]
          },
          "execution_count": 9,
          "metadata": {},
          "output_type": "execute_result"
        }
      ],
      "source": [
        "hs.head"
      ]
    },
    {
      "cell_type": "code",
      "execution_count": null,
      "metadata": {
        "colab": {
          "base_uri": "https://localhost:8080/"
        },
        "id": "Xb_x_jDD2J0d",
        "outputId": "7aa55494-89cf-450b-eb30-db8e23cffe5d"
      },
      "outputs": [
        {
          "data": {
            "text/plain": [
              "<bound method NDFrame.head of                                                   tweet  hate_index\n",
              "0                call sis im boy girl still faggot shut         1.0\n",
              "1                              legit nilas retarded idk         1.0\n",
              "2                                          said retard          1.0\n",
              "3     america another 8 years obama's ideology via h...         1.0\n",
              "4                         don... fucking made cry twat.         1.0\n",
              "...                                                 ...         ...\n",
              "5642                                        retard :) x         1.0\n",
              "5643  i'm hole sir i'm faggot sir i'm clit sir i'm h...         1.0\n",
              "5644  (2/2) like fucking twat i'm damage heal you. r...         1.0\n",
              "5645                            bf retarded guess u r 2         1.0\n",
              "5646                       whats ching chong stuff mean         1.0\n",
              "\n",
              "[5647 rows x 2 columns]>"
            ]
          },
          "execution_count": 10,
          "metadata": {},
          "output_type": "execute_result"
        }
      ],
      "source": [
        "import re\n",
        "\n",
        "def remove_usernames_links(tweet):\n",
        "    tweet = re.sub('@[^\\s]+','',tweet)\n",
        "    tweet = re.sub('http[^\\s]+','',tweet)\n",
        "    return tweet\n",
        "hs['tweet'] = hs['tweet'].apply(remove_usernames_links)\n",
        "hs.head"
      ]
    },
    {
      "cell_type": "markdown",
      "metadata": {
        "id": "CTYHqV1G1N4k"
      },
      "source": [
        "## not_hs"
      ]
    },
    {
      "cell_type": "code",
      "execution_count": null,
      "metadata": {
        "id": "Vks6ratgzV_C"
      },
      "outputs": [],
      "source": [
        "not_hs = pd.read_csv(\"/content/drive/My Drive/hate_speech_datasets/not_hs.tsv\", sep=\"\\t\", header = 0)"
      ]
    },
    {
      "cell_type": "code",
      "execution_count": null,
      "metadata": {
        "colab": {
          "base_uri": "https://localhost:8080/"
        },
        "id": "hbHaUfWHzYd-",
        "outputId": "60f8a8b6-ba32-4dc5-d894-f49b963341eb"
      },
      "outputs": [
        {
          "data": {
            "text/plain": [
              "0                                Bugün bulusmami lazimdiii\n",
              "1           Volkan konak adami tribe sokar yemin ederim :D\n",
              "2                                                      Bed\n",
              "3        I felt my first flash of violence at some fool...\n",
              "4                  Ladies drink and get in free till 10:30\n",
              "                               ...                        \n",
              "10497    I'm at @PiazzaAvym in Canik, Samsun w/ @mertar...\n",
              "10498    El Nido, fica ao norte de Palawan, uma das ilh...\n",
              "10499    Alhamdulillah 😊👨‍👩‍👧‍👧🎂🍦makasih mah pah #lovyu...\n",
              "10500    Eid-Mubarak @ Bauchi Fedral Lowcost https://t....\n",
              "10501    ⒍ Santa Catarina Pinula\\n⒎ Nairo Quintana\\n⒏ A...\n",
              "Name: Tweet, Length: 10502, dtype: object"
            ]
          },
          "execution_count": 12,
          "metadata": {},
          "output_type": "execute_result"
        }
      ],
      "source": [
        "not_hs[\"Tweet\"]"
      ]
    },
    {
      "cell_type": "code",
      "execution_count": null,
      "metadata": {
        "id": "OZmGuPoyzZ8U"
      },
      "outputs": [],
      "source": [
        "not_hs = not_hs[not_hs['Definitely English'] != 0]"
      ]
    },
    {
      "cell_type": "code",
      "execution_count": null,
      "metadata": {
        "colab": {
          "base_uri": "https://localhost:8080/"
        },
        "id": "8IuoNp-Lzcjq",
        "outputId": "b0250a85-3cc4-4408-8020-8637eca5f8ed"
      },
      "outputs": [
        {
          "data": {
            "text/plain": [
              "2                                                      Bed\n",
              "3        I felt my first flash of violence at some fool...\n",
              "4                  Ladies drink and get in free till 10:30\n",
              "7        Watching #Miranda On bbc1!!! @mermhart u r HIL...\n",
              "9                Shopping! (@ Kohl's) http://t.co/I8ZkQHT9\n",
              "                               ...                        \n",
              "10493    I'm at Hempstead Hair World in Elmont, NY http...\n",
              "10494    Bachelorette 💍💞 @ Laurita Winery https://t.co/...\n",
              "10495    When life gives you Lemon 🍋\\nREAD 🤓🤓🤓👌👌👌☝️☝\\n-...\n",
              "10496    This #job might be a great fit for you: Sr. In...\n",
              "10497    I'm at @PiazzaAvym in Canik, Samsun w/ @mertar...\n",
              "Name: Tweet, Length: 5086, dtype: object"
            ]
          },
          "execution_count": 14,
          "metadata": {},
          "output_type": "execute_result"
        }
      ],
      "source": [
        "not_hs[\"Tweet\"]"
      ]
    },
    {
      "cell_type": "code",
      "execution_count": null,
      "metadata": {
        "colab": {
          "base_uri": "https://localhost:8080/"
        },
        "id": "6Q06rDjizes5",
        "outputId": "81947236-5662-4fb0-f456-8d7bca564f0a"
      },
      "outputs": [
        {
          "data": {
            "text/plain": [
              "<bound method NDFrame.head of                                                    Tweet\n",
              "2                                                    Bed\n",
              "3      I felt my first flash of violence at some fool...\n",
              "4                Ladies drink and get in free till 10:30\n",
              "7      Watching #Miranda On bbc1!!! @mermhart u r HIL...\n",
              "9              Shopping! (@ Kohl's) http://t.co/I8ZkQHT9\n",
              "...                                                  ...\n",
              "10493  I'm at Hempstead Hair World in Elmont, NY http...\n",
              "10494  Bachelorette 💍💞 @ Laurita Winery https://t.co/...\n",
              "10495  When life gives you Lemon 🍋\\nREAD 🤓🤓🤓👌👌👌☝️☝\\n-...\n",
              "10496  This #job might be a great fit for you: Sr. In...\n",
              "10497  I'm at @PiazzaAvym in Canik, Samsun w/ @mertar...\n",
              "\n",
              "[5086 rows x 1 columns]>"
            ]
          },
          "execution_count": 15,
          "metadata": {},
          "output_type": "execute_result"
        }
      ],
      "source": [
        "not_hs = pd.DataFrame(not_hs[\"Tweet\"])\n",
        "not_hs.head"
      ]
    },
    {
      "cell_type": "code",
      "execution_count": null,
      "metadata": {
        "colab": {
          "base_uri": "https://localhost:8080/"
        },
        "id": "qhd5hV7tzkC0",
        "outputId": "be41204e-e04e-469d-a518-6a5d4fb34b58"
      },
      "outputs": [
        {
          "data": {
            "text/plain": [
              "<bound method NDFrame.head of                                                    Tweet  0\n",
              "0                                                    NaN  0\n",
              "1                                                    NaN  0\n",
              "2                                                    Bed  0\n",
              "3      I felt my first flash of violence at some fool...  0\n",
              "4                Ladies drink and get in free till 10:30  0\n",
              "...                                                  ... ..\n",
              "10493  I'm at Hempstead Hair World in Elmont, NY http...  0\n",
              "10494  Bachelorette 💍💞 @ Laurita Winery https://t.co/...  0\n",
              "10495  When life gives you Lemon 🍋\\nREAD 🤓🤓🤓👌👌👌☝️☝\\n-...  0\n",
              "10496  This #job might be a great fit for you: Sr. In...  0\n",
              "10497  I'm at @PiazzaAvym in Canik, Samsun w/ @mertar...  0\n",
              "\n",
              "[10498 rows x 2 columns]>"
            ]
          },
          "execution_count": 16,
          "metadata": {},
          "output_type": "execute_result"
        }
      ],
      "source": [
        "o = pd.DataFrame(np.zeros((10498,1), dtype = int))\n",
        "not_hs = pd.concat([not_hs, o], axis=1)\n",
        "not_hs.head"
      ]
    },
    {
      "cell_type": "code",
      "execution_count": null,
      "metadata": {
        "colab": {
          "base_uri": "https://localhost:8080/"
        },
        "id": "a_Qw3vLpzoPn",
        "outputId": "e37c2f47-9515-4da2-8fb2-63488e8b6983"
      },
      "outputs": [
        {
          "data": {
            "text/plain": [
              "<bound method NDFrame.head of                                                    tweet  hate_index\n",
              "0                                                    NaN           0\n",
              "1                                                    NaN           0\n",
              "2                                                    Bed           0\n",
              "3      I felt my first flash of violence at some fool...           0\n",
              "4                Ladies drink and get in free till 10:30           0\n",
              "...                                                  ...         ...\n",
              "10493  I'm at Hempstead Hair World in Elmont, NY http...           0\n",
              "10494  Bachelorette 💍💞 @ Laurita Winery https://t.co/...           0\n",
              "10495  When life gives you Lemon 🍋\\nREAD 🤓🤓🤓👌👌👌☝️☝\\n-...           0\n",
              "10496  This #job might be a great fit for you: Sr. In...           0\n",
              "10497  I'm at @PiazzaAvym in Canik, Samsun w/ @mertar...           0\n",
              "\n",
              "[10498 rows x 2 columns]>"
            ]
          },
          "execution_count": 17,
          "metadata": {},
          "output_type": "execute_result"
        }
      ],
      "source": [
        "not_hs.columns = [\"tweet\" , \"hate_index\"]\n",
        "not_hs.head"
      ]
    },
    {
      "cell_type": "code",
      "execution_count": null,
      "metadata": {
        "colab": {
          "base_uri": "https://localhost:8080/"
        },
        "id": "pdvP8uLBzqe1",
        "outputId": "56a1ab9e-edc7-4880-e71e-d6ea12a8f0e3"
      },
      "outputs": [
        {
          "data": {
            "text/plain": [
              "<bound method NDFrame.head of                                                    tweet  hate_index\n",
              "2                                                    Bed           0\n",
              "3      I felt my first flash of violence at some fool...           0\n",
              "4                Ladies drink and get in free till 10:30           0\n",
              "7      Watching #Miranda On bbc1!!! @mermhart u r HIL...           0\n",
              "9              Shopping! (@ Kohl's) http://t.co/I8ZkQHT9           0\n",
              "...                                                  ...         ...\n",
              "10493  I'm at Hempstead Hair World in Elmont, NY http...           0\n",
              "10494  Bachelorette 💍💞 @ Laurita Winery https://t.co/...           0\n",
              "10495  When life gives you Lemon 🍋\\nREAD 🤓🤓🤓👌👌👌☝️☝\\n-...           0\n",
              "10496  This #job might be a great fit for you: Sr. In...           0\n",
              "10497  I'm at @PiazzaAvym in Canik, Samsun w/ @mertar...           0\n",
              "\n",
              "[5086 rows x 2 columns]>"
            ]
          },
          "execution_count": 18,
          "metadata": {},
          "output_type": "execute_result"
        }
      ],
      "source": [
        "not_hs = not_hs[pd.notnull(not_hs['tweet'])]\n",
        "not_hs.head"
      ]
    },
    {
      "cell_type": "code",
      "execution_count": null,
      "metadata": {
        "colab": {
          "base_uri": "https://localhost:8080/"
        },
        "id": "fKqAEs6vzva3",
        "outputId": "2763db05-2828-4a0c-aa75-c6a3a9167e8c"
      },
      "outputs": [
        {
          "data": {
            "text/plain": [
              "<bound method NDFrame.head of                                                    tweet hate_index\n",
              "2                                                    Bed          0\n",
              "3      I felt my first flash of violence at some fool...          0\n",
              "4                Ladies drink and get in free till 10:30          0\n",
              "7      Watching #Miranda On bbc1!!! @mermhart u r HIL...          0\n",
              "9              Shopping! (@ Kohl's) http://t.co/I8ZkQHT9          0\n",
              "...                                                  ...        ...\n",
              "10493  I'm at Hempstead Hair World in Elmont, NY http...          0\n",
              "10494  Bachelorette  @ Laurita Winery https://t.co/Bs...          0\n",
              "10495  When life gives you Lemon READ -Solutions \\Ste...          0\n",
              "10496  This #job might be a great fit for you: Sr. In...          0\n",
              "10497  I'm at @PiazzaAvym in Canik, Samsun w/ @mertar...          0\n",
              "\n",
              "[5086 rows x 2 columns]>"
            ]
          },
          "execution_count": 19,
          "metadata": {},
          "output_type": "execute_result"
        }
      ],
      "source": [
        "not_hs = not_hs.astype(str).apply(lambda x: x.str.encode(\"ascii\" , \"ignore\").str.decode(\"ascii\"))\n",
        "not_hs = not_hs.replace(r'\\\\n','', regex=True)\n",
        "not_hs.head"
      ]
    },
    {
      "cell_type": "code",
      "execution_count": null,
      "metadata": {
        "colab": {
          "base_uri": "https://localhost:8080/"
        },
        "id": "ME9GOYG114VK",
        "outputId": "a8f0d01b-cdcd-4882-f904-68adab1a154c"
      },
      "outputs": [
        {
          "data": {
            "text/plain": [
              "<bound method NDFrame.head of                                                    tweet hate_index\n",
              "2                                                    Bed          0\n",
              "3      I felt my first flash of violence at some fool...          0\n",
              "4                Ladies drink and get in free till 10:30          0\n",
              "7           Watching #Miranda On bbc1!!!  u r HILARIOUS           0\n",
              "9                                  Shopping! (@ Kohl's)           0\n",
              "...                                                  ...        ...\n",
              "10493         I'm at Hempstead Hair World in Elmont, NY           0\n",
              "10494                    Bachelorette  @ Laurita Winery           0\n",
              "10495  When life gives you Lemon READ -Solutions \\Ste...          0\n",
              "10496  This #job might be a great fit for you: Sr. In...          0\n",
              "10497                    I'm at  in Canik, Samsun w/              0\n",
              "\n",
              "[5086 rows x 2 columns]>"
            ]
          },
          "execution_count": 20,
          "metadata": {},
          "output_type": "execute_result"
        }
      ],
      "source": [
        "not_hs['tweet'] = not_hs['tweet'].apply(remove_usernames_links)\n",
        "not_hs.head"
      ]
    },
    {
      "cell_type": "code",
      "execution_count": null,
      "metadata": {
        "colab": {
          "base_uri": "https://localhost:8080/"
        },
        "id": "A4x8-6U-2bPt",
        "outputId": "5647a7db-51a4-463c-e687-576946082a43"
      },
      "outputs": [
        {
          "data": {
            "text/plain": [
              "<bound method NDFrame.head of                                                   tweet hate_index\n",
              "0                                                   bed          0\n",
              "1     i felt my first flash of violence at some fool...          0\n",
              "2               ladies drink and get in free till 10:30          0\n",
              "3          watching #miranda on bbc1!!!  u r hilarious           0\n",
              "4                                 shopping! (@ kohl's)           0\n",
              "...                                                 ...        ...\n",
              "5081         i'm at hempstead hair world in elmont, ny           0\n",
              "5082                    bachelorette  @ laurita winery           0\n",
              "5083  when life gives you lemon read -solutions \\ste...          0\n",
              "5084  this #job might be a great fit for you: sr. in...          0\n",
              "5085                    i'm at  in canik, samsun w/              0\n",
              "\n",
              "[5086 rows x 2 columns]>"
            ]
          },
          "execution_count": 21,
          "metadata": {},
          "output_type": "execute_result"
        }
      ],
      "source": [
        "not_hs = not_hs.reset_index(drop=True)\n",
        "not_hs = not_hs[pd.notnull(not_hs['tweet'])]\n",
        "not_hs['tweet'] = not_hs['tweet'].str.lower()\n",
        "not_hs.head"
      ]
    },
    {
      "cell_type": "markdown",
      "metadata": {
        "id": "890gMOsz3nzx"
      },
      "source": [
        "## df"
      ]
    },
    {
      "cell_type": "code",
      "execution_count": null,
      "metadata": {
        "colab": {
          "base_uri": "https://localhost:8080/"
        },
        "id": "9aXlo4L-3vGl",
        "outputId": "5b33016d-6901-484a-861a-18e2d7d62285"
      },
      "outputs": [
        {
          "data": {
            "text/plain": [
              "<bound method NDFrame.head of                                                   tweet hate_index\n",
              "0                call sis im boy girl still faggot shut        1.0\n",
              "1                              legit nilas retarded idk        1.0\n",
              "2                                          said retard         1.0\n",
              "3     america another 8 years obama's ideology via h...        1.0\n",
              "4                         don... fucking made cry twat.        1.0\n",
              "...                                                 ...        ...\n",
              "5081         i'm at hempstead hair world in elmont, ny           0\n",
              "5082                    bachelorette  @ laurita winery           0\n",
              "5083  when life gives you lemon read -solutions \\ste...          0\n",
              "5084  this #job might be a great fit for you: sr. in...          0\n",
              "5085                    i'm at  in canik, samsun w/              0\n",
              "\n",
              "[10733 rows x 2 columns]>"
            ]
          },
          "execution_count": 22,
          "metadata": {},
          "output_type": "execute_result"
        }
      ],
      "source": [
        "df = pd.concat([hs, not_hs], axis=0)\n",
        "df.head"
      ]
    },
    {
      "cell_type": "code",
      "execution_count": null,
      "metadata": {
        "colab": {
          "base_uri": "https://localhost:8080/"
        },
        "id": "3V0zzVPj4X8X",
        "outputId": "8c290550-3724-4d28-e142-b02ec3c1e14e"
      },
      "outputs": [
        {
          "data": {
            "text/plain": [
              "<bound method NDFrame.head of                                                    tweet hate_index\n",
              "0                                        i'm at my home           0\n",
              "1      but really though y'all.... i don't where i wo...          0\n",
              "2      do you ever wonder if someone creeps on you li...          0\n",
              "3      10th mongol derby ( longest toughest horse rac...        1.0\n",
              "4      mean call faggot long continues give school mo...        1.0\n",
              "...                                                  ...        ...\n",
              "10728        just posted a photo @ kendall lakes, miami           0\n",
              "10729  when you have a special moment with your kale ...          0\n",
              "10730                                             night!          0\n",
              "10731   diiih apaansih udh tau arisan keluarga gue ha...          0\n",
              "10732                                             y'all           0\n",
              "\n",
              "[10733 rows x 2 columns]>"
            ]
          },
          "execution_count": 23,
          "metadata": {},
          "output_type": "execute_result"
        }
      ],
      "source": [
        "df = df.sample(frac = 1, axis = 0).reset_index(drop=True)\n",
        "df.head"
      ]
    },
    {
      "cell_type": "code",
      "execution_count": null,
      "metadata": {
        "colab": {
          "base_uri": "https://localhost:8080/"
        },
        "id": "u2sMf69L4adJ",
        "outputId": "ebaab538-239e-43a2-dcc2-e5716e7be312"
      },
      "outputs": [
        {
          "data": {
            "text/plain": [
              "<bound method NDFrame.head of                                                    tweet hate_index\n",
              "0                                        i'm at my home           0\n",
              "1      but really though y'all.... i don't where i wo...          0\n",
              "2      do you ever wonder if someone creeps on you li...          0\n",
              "3      10th mongol derby ( longest toughest horse rac...        1.0\n",
              "4      mean call faggot long continues give school mo...        1.0\n",
              "...                                                  ...        ...\n",
              "10728        just posted a photo @ kendall lakes, miami           0\n",
              "10729  when you have a special moment with your kale ...          0\n",
              "10730                                             night!          0\n",
              "10731   diiih apaansih udh tau arisan keluarga gue ha...          0\n",
              "10732                                             y'all           0\n",
              "\n",
              "[10733 rows x 2 columns]>"
            ]
          },
          "execution_count": 24,
          "metadata": {},
          "output_type": "execute_result"
        }
      ],
      "source": [
        "df = df[pd.notnull(df['tweet'])]\n",
        "df.head"
      ]
    },
    {
      "cell_type": "code",
      "execution_count": null,
      "metadata": {
        "id": "RrHur_y74ecy"
      },
      "outputs": [],
      "source": [
        "tweets = df[\"tweet\"]\n",
        "labels = df[\"hate_index\"]"
      ]
    },
    {
      "cell_type": "code",
      "execution_count": null,
      "metadata": {
        "colab": {
          "base_uri": "https://localhost:8080/"
        },
        "id": "235JBuStqLMI",
        "outputId": "13206f43-5e7e-4322-b5e3-418fb09f4202"
      },
      "outputs": [
        {
          "data": {
            "text/plain": [
              "1.0    5647\n",
              "0      5086\n",
              "Name: hate_index, dtype: int64"
            ]
          },
          "execution_count": 26,
          "metadata": {},
          "output_type": "execute_result"
        }
      ],
      "source": [
        "df[\"hate_index\"].value_counts()"
      ]
    },
    {
      "cell_type": "markdown",
      "metadata": {
        "id": "nmhmIHzGmMNf"
      },
      "source": [
        "## df_final"
      ]
    },
    {
      "cell_type": "code",
      "execution_count": null,
      "metadata": {
        "id": "cH6Bs1rQeN2L"
      },
      "outputs": [],
      "source": [
        "import pickle\n",
        "with open('/content/drive/My Drive/hs_df_final.csv', 'rb') as fp:\n",
        "  df_final = pickle.load(fp)"
      ]
    },
    {
      "cell_type": "code",
      "execution_count": null,
      "metadata": {
        "colab": {
          "base_uri": "https://localhost:8080/"
        },
        "id": "CetbDsC0eP64",
        "outputId": "92663cfb-3903-454d-c109-e67c33b6353b"
      },
      "outputs": [
        {
          "data": {
            "text/plain": [
              "(65934, 2)"
            ]
          },
          "execution_count": 28,
          "metadata": {},
          "output_type": "execute_result"
        }
      ],
      "source": [
        "df_final.shape"
      ]
    },
    {
      "cell_type": "code",
      "execution_count": null,
      "metadata": {
        "id": "xR2nzuuveSws"
      },
      "outputs": [],
      "source": [
        "df_final = df_final.sample(frac=1).reset_index(drop=True)"
      ]
    },
    {
      "cell_type": "code",
      "execution_count": null,
      "metadata": {
        "colab": {
          "base_uri": "https://localhost:8080/"
        },
        "id": "1nSFhCEdehHb",
        "outputId": "66e6d0bc-71cd-4c5f-d54b-6dda3a8300ff"
      },
      "outputs": [
        {
          "data": {
            "text/html": [
              "\n",
              "  <div id=\"df-0b08eb54-d299-4a2f-ac6a-4abc92f64254\">\n",
              "    <div class=\"colab-df-container\">\n",
              "      <div>\n",
              "<style scoped>\n",
              "    .dataframe tbody tr th:only-of-type {\n",
              "        vertical-align: middle;\n",
              "    }\n",
              "\n",
              "    .dataframe tbody tr th {\n",
              "        vertical-align: top;\n",
              "    }\n",
              "\n",
              "    .dataframe thead th {\n",
              "        text-align: right;\n",
              "    }\n",
              "</style>\n",
              "<table border=\"1\" class=\"dataframe\">\n",
              "  <thead>\n",
              "    <tr style=\"text-align: right;\">\n",
              "      <th></th>\n",
              "      <th>tweet</th>\n",
              "      <th>group</th>\n",
              "    </tr>\n",
              "  </thead>\n",
              "  <tbody>\n",
              "    <tr>\n",
              "      <th>0</th>\n",
              "      <td>@ QueenElisabeth @ Givetheringback What a twat...</td>\n",
              "      <td>2.0</td>\n",
              "    </tr>\n",
              "    <tr>\n",
              "      <th>1</th>\n",
              "      <td>He went from looking like a backwoods hillbill...</td>\n",
              "      <td>3.0</td>\n",
              "    </tr>\n",
              "    <tr>\n",
              "      <th>2</th>\n",
              "      <td>@ user @ drug user that ' s really retarded</td>\n",
              "      <td>1.0</td>\n",
              "    </tr>\n",
              "    <tr>\n",
              "      <th>3</th>\n",
              "      <td>I BET CHA BITCH WANNA REAL NIGGA LIKE ME 🤑 htt...</td>\n",
              "      <td>3.0</td>\n",
              "    </tr>\n",
              "    <tr>\n",
              "      <th>4</th>\n",
              "      <td>@ OctoberNaughty So this nigga got rid of the ...</td>\n",
              "      <td>2.0</td>\n",
              "    </tr>\n",
              "  </tbody>\n",
              "</table>\n",
              "</div>\n",
              "      <button class=\"colab-df-convert\" onclick=\"convertToInteractive('df-0b08eb54-d299-4a2f-ac6a-4abc92f64254')\"\n",
              "              title=\"Convert this dataframe to an interactive table.\"\n",
              "              style=\"display:none;\">\n",
              "        \n",
              "  <svg xmlns=\"http://www.w3.org/2000/svg\" height=\"24px\"viewBox=\"0 0 24 24\"\n",
              "       width=\"24px\">\n",
              "    <path d=\"M0 0h24v24H0V0z\" fill=\"none\"/>\n",
              "    <path d=\"M18.56 5.44l.94 2.06.94-2.06 2.06-.94-2.06-.94-.94-2.06-.94 2.06-2.06.94zm-11 1L8.5 8.5l.94-2.06 2.06-.94-2.06-.94L8.5 2.5l-.94 2.06-2.06.94zm10 10l.94 2.06.94-2.06 2.06-.94-2.06-.94-.94-2.06-.94 2.06-2.06.94z\"/><path d=\"M17.41 7.96l-1.37-1.37c-.4-.4-.92-.59-1.43-.59-.52 0-1.04.2-1.43.59L10.3 9.45l-7.72 7.72c-.78.78-.78 2.05 0 2.83L4 21.41c.39.39.9.59 1.41.59.51 0 1.02-.2 1.41-.59l7.78-7.78 2.81-2.81c.8-.78.8-2.07 0-2.86zM5.41 20L4 18.59l7.72-7.72 1.47 1.35L5.41 20z\"/>\n",
              "  </svg>\n",
              "      </button>\n",
              "      \n",
              "  <style>\n",
              "    .colab-df-container {\n",
              "      display:flex;\n",
              "      flex-wrap:wrap;\n",
              "      gap: 12px;\n",
              "    }\n",
              "\n",
              "    .colab-df-convert {\n",
              "      background-color: #E8F0FE;\n",
              "      border: none;\n",
              "      border-radius: 50%;\n",
              "      cursor: pointer;\n",
              "      display: none;\n",
              "      fill: #1967D2;\n",
              "      height: 32px;\n",
              "      padding: 0 0 0 0;\n",
              "      width: 32px;\n",
              "    }\n",
              "\n",
              "    .colab-df-convert:hover {\n",
              "      background-color: #E2EBFA;\n",
              "      box-shadow: 0px 1px 2px rgba(60, 64, 67, 0.3), 0px 1px 3px 1px rgba(60, 64, 67, 0.15);\n",
              "      fill: #174EA6;\n",
              "    }\n",
              "\n",
              "    [theme=dark] .colab-df-convert {\n",
              "      background-color: #3B4455;\n",
              "      fill: #D2E3FC;\n",
              "    }\n",
              "\n",
              "    [theme=dark] .colab-df-convert:hover {\n",
              "      background-color: #434B5C;\n",
              "      box-shadow: 0px 1px 3px 1px rgba(0, 0, 0, 0.15);\n",
              "      filter: drop-shadow(0px 1px 2px rgba(0, 0, 0, 0.3));\n",
              "      fill: #FFFFFF;\n",
              "    }\n",
              "  </style>\n",
              "\n",
              "      <script>\n",
              "        const buttonEl =\n",
              "          document.querySelector('#df-0b08eb54-d299-4a2f-ac6a-4abc92f64254 button.colab-df-convert');\n",
              "        buttonEl.style.display =\n",
              "          google.colab.kernel.accessAllowed ? 'block' : 'none';\n",
              "\n",
              "        async function convertToInteractive(key) {\n",
              "          const element = document.querySelector('#df-0b08eb54-d299-4a2f-ac6a-4abc92f64254');\n",
              "          const dataTable =\n",
              "            await google.colab.kernel.invokeFunction('convertToInteractive',\n",
              "                                                     [key], {});\n",
              "          if (!dataTable) return;\n",
              "\n",
              "          const docLinkHtml = 'Like what you see? Visit the ' +\n",
              "            '<a target=\"_blank\" href=https://colab.research.google.com/notebooks/data_table.ipynb>data table notebook</a>'\n",
              "            + ' to learn more about interactive tables.';\n",
              "          element.innerHTML = '';\n",
              "          dataTable['output_type'] = 'display_data';\n",
              "          await google.colab.output.renderOutput(dataTable, element);\n",
              "          const docLink = document.createElement('div');\n",
              "          docLink.innerHTML = docLinkHtml;\n",
              "          element.appendChild(docLink);\n",
              "        }\n",
              "      </script>\n",
              "    </div>\n",
              "  </div>\n",
              "  "
            ],
            "text/plain": [
              "                                               tweet group\n",
              "0  @ QueenElisabeth @ Givetheringback What a twat...   2.0\n",
              "1  He went from looking like a backwoods hillbill...   3.0\n",
              "2        @ user @ drug user that ' s really retarded   1.0\n",
              "3  I BET CHA BITCH WANNA REAL NIGGA LIKE ME 🤑 htt...   3.0\n",
              "4  @ OctoberNaughty So this nigga got rid of the ...   2.0"
            ]
          },
          "execution_count": 30,
          "metadata": {},
          "output_type": "execute_result"
        }
      ],
      "source": [
        "df_final.head()"
      ]
    },
    {
      "cell_type": "code",
      "execution_count": null,
      "metadata": {
        "colab": {
          "base_uri": "https://localhost:8080/"
        },
        "id": "lrP-DKIXekRx",
        "outputId": "4a49e13f-8622-4877-a3df-3a59bd39c02f"
      },
      "outputs": [
        {
          "data": {
            "text/plain": [
              "<bound method NDFrame.head of                                                    tweet\n",
              "0      @ QueenElisabeth @ Givetheringback What a twat...\n",
              "1      He went from looking like a backwoods hillbill...\n",
              "2            @ user @ drug user that ' s really retarded\n",
              "3      I BET CHA BITCH WANNA REAL NIGGA LIKE ME 🤑 htt...\n",
              "4      @ OctoberNaughty So this nigga got rid of the ...\n",
              "...                                                  ...\n",
              "65929           @ user @ user ya similar negro president\n",
              "65930  the dyke fit....i want it  https://t.co/xym6xf...\n",
              "65931  That cunt get me so HEATED https://t.co/nt9jMK...\n",
              "65932  this poster can – and bequeath – enounce faggo...\n",
              "65933  Nigger memes for your pleasure https://t.co/Y4...\n",
              "\n",
              "[65934 rows x 1 columns]>"
            ]
          },
          "execution_count": 31,
          "metadata": {},
          "output_type": "execute_result"
        }
      ],
      "source": [
        "df_final = df_final['tweet'].to_frame()\n",
        "df_final.head"
      ]
    },
    {
      "cell_type": "code",
      "execution_count": null,
      "metadata": {
        "id": "V9o_9FVJk2cZ"
      },
      "outputs": [],
      "source": [
        "df_ones = pd.DataFrame(1.0, index=np.arange(len(df_final)), columns=['hate_index'])"
      ]
    },
    {
      "cell_type": "code",
      "execution_count": null,
      "metadata": {
        "colab": {
          "base_uri": "https://localhost:8080/"
        },
        "id": "vm5HjYJ1k8qT",
        "outputId": "368f5daa-2179-4109-ee2c-1ad6415c3450"
      },
      "outputs": [
        {
          "data": {
            "text/plain": [
              "<bound method NDFrame.head of                                                    tweet  hate_index\n",
              "0      @ QueenElisabeth @ Givetheringback What a twat...         1.0\n",
              "1      He went from looking like a backwoods hillbill...         1.0\n",
              "2            @ user @ drug user that ' s really retarded         1.0\n",
              "3      I BET CHA BITCH WANNA REAL NIGGA LIKE ME 🤑 htt...         1.0\n",
              "4      @ OctoberNaughty So this nigga got rid of the ...         1.0\n",
              "...                                                  ...         ...\n",
              "65929           @ user @ user ya similar negro president         1.0\n",
              "65930  the dyke fit....i want it  https://t.co/xym6xf...         1.0\n",
              "65931  That cunt get me so HEATED https://t.co/nt9jMK...         1.0\n",
              "65932  this poster can – and bequeath – enounce faggo...         1.0\n",
              "65933  Nigger memes for your pleasure https://t.co/Y4...         1.0\n",
              "\n",
              "[65934 rows x 2 columns]>"
            ]
          },
          "execution_count": 33,
          "metadata": {},
          "output_type": "execute_result"
        }
      ],
      "source": [
        "hs_dff = pd.concat([df_final, df_ones], axis = 1)\n",
        "hs_dff.head"
      ]
    },
    {
      "cell_type": "code",
      "execution_count": null,
      "metadata": {
        "id": "3Uvd9aTnf-Im"
      },
      "outputs": [],
      "source": [
        "# https://www.kaggle.com/rtatman/the-umass-global-english-on-twitter-dataset\n",
        "# https://data.world/data-society/twitter-user-data/workspace/file?filename=gender-classifier-DFE-791531.csv "
      ]
    },
    {
      "cell_type": "code",
      "execution_count": null,
      "metadata": {
        "id": "oww9fP60f6Dr"
      },
      "outputs": [],
      "source": [
        "noths = pd.read_csv('/content/drive/MyDrive/hate_speech_datasets/gender_classifier.csv', encoding='ISO-8859-1')"
      ]
    },
    {
      "cell_type": "code",
      "execution_count": null,
      "metadata": {
        "colab": {
          "base_uri": "https://localhost:8080/"
        },
        "id": "RNijFj8tiaIK",
        "outputId": "39965203-f5b7-4ce2-eeda-192a4e98cac8"
      },
      "outputs": [
        {
          "data": {
            "text/html": [
              "\n",
              "  <div id=\"df-7e905047-15d0-4275-beb1-0146e711a427\">\n",
              "    <div class=\"colab-df-container\">\n",
              "      <div>\n",
              "<style scoped>\n",
              "    .dataframe tbody tr th:only-of-type {\n",
              "        vertical-align: middle;\n",
              "    }\n",
              "\n",
              "    .dataframe tbody tr th {\n",
              "        vertical-align: top;\n",
              "    }\n",
              "\n",
              "    .dataframe thead th {\n",
              "        text-align: right;\n",
              "    }\n",
              "</style>\n",
              "<table border=\"1\" class=\"dataframe\">\n",
              "  <thead>\n",
              "    <tr style=\"text-align: right;\">\n",
              "      <th></th>\n",
              "      <th>_unit_id</th>\n",
              "      <th>_golden</th>\n",
              "      <th>_unit_state</th>\n",
              "      <th>_trusted_judgments</th>\n",
              "      <th>_last_judgment_at</th>\n",
              "      <th>gender</th>\n",
              "      <th>gender:confidence</th>\n",
              "      <th>profile_yn</th>\n",
              "      <th>profile_yn:confidence</th>\n",
              "      <th>created</th>\n",
              "      <th>...</th>\n",
              "      <th>profileimage</th>\n",
              "      <th>retweet_count</th>\n",
              "      <th>sidebar_color</th>\n",
              "      <th>text</th>\n",
              "      <th>tweet_coord</th>\n",
              "      <th>tweet_count</th>\n",
              "      <th>tweet_created</th>\n",
              "      <th>tweet_id</th>\n",
              "      <th>tweet_location</th>\n",
              "      <th>user_timezone</th>\n",
              "    </tr>\n",
              "  </thead>\n",
              "  <tbody>\n",
              "    <tr>\n",
              "      <th>0</th>\n",
              "      <td>815719226</td>\n",
              "      <td>False</td>\n",
              "      <td>finalized</td>\n",
              "      <td>3</td>\n",
              "      <td>10/26/15 23:24</td>\n",
              "      <td>male</td>\n",
              "      <td>1.0000</td>\n",
              "      <td>yes</td>\n",
              "      <td>1.0</td>\n",
              "      <td>12/5/13 1:48</td>\n",
              "      <td>...</td>\n",
              "      <td>https://pbs.twimg.com/profile_images/414342229...</td>\n",
              "      <td>0</td>\n",
              "      <td>FFFFFF</td>\n",
              "      <td>Robbie E Responds To Critics After Win Against...</td>\n",
              "      <td>NaN</td>\n",
              "      <td>110964</td>\n",
              "      <td>10/26/15 12:40</td>\n",
              "      <td>6.587300e+17</td>\n",
              "      <td>main; @Kan1shk3</td>\n",
              "      <td>Chennai</td>\n",
              "    </tr>\n",
              "    <tr>\n",
              "      <th>1</th>\n",
              "      <td>815719227</td>\n",
              "      <td>False</td>\n",
              "      <td>finalized</td>\n",
              "      <td>3</td>\n",
              "      <td>10/26/15 23:30</td>\n",
              "      <td>male</td>\n",
              "      <td>1.0000</td>\n",
              "      <td>yes</td>\n",
              "      <td>1.0</td>\n",
              "      <td>10/1/12 13:51</td>\n",
              "      <td>...</td>\n",
              "      <td>https://pbs.twimg.com/profile_images/539604221...</td>\n",
              "      <td>0</td>\n",
              "      <td>C0DEED</td>\n",
              "      <td>ÛÏIt felt like they were my friends and I was...</td>\n",
              "      <td>NaN</td>\n",
              "      <td>7471</td>\n",
              "      <td>10/26/15 12:40</td>\n",
              "      <td>6.587300e+17</td>\n",
              "      <td>NaN</td>\n",
              "      <td>Eastern Time (US &amp; Canada)</td>\n",
              "    </tr>\n",
              "    <tr>\n",
              "      <th>2</th>\n",
              "      <td>815719228</td>\n",
              "      <td>False</td>\n",
              "      <td>finalized</td>\n",
              "      <td>3</td>\n",
              "      <td>10/26/15 23:33</td>\n",
              "      <td>male</td>\n",
              "      <td>0.6625</td>\n",
              "      <td>yes</td>\n",
              "      <td>1.0</td>\n",
              "      <td>11/28/14 11:30</td>\n",
              "      <td>...</td>\n",
              "      <td>https://pbs.twimg.com/profile_images/657330418...</td>\n",
              "      <td>1</td>\n",
              "      <td>C0DEED</td>\n",
              "      <td>i absolutely adore when louis starts the songs...</td>\n",
              "      <td>NaN</td>\n",
              "      <td>5617</td>\n",
              "      <td>10/26/15 12:40</td>\n",
              "      <td>6.587300e+17</td>\n",
              "      <td>clcncl</td>\n",
              "      <td>Belgrade</td>\n",
              "    </tr>\n",
              "    <tr>\n",
              "      <th>3</th>\n",
              "      <td>815719229</td>\n",
              "      <td>False</td>\n",
              "      <td>finalized</td>\n",
              "      <td>3</td>\n",
              "      <td>10/26/15 23:10</td>\n",
              "      <td>male</td>\n",
              "      <td>1.0000</td>\n",
              "      <td>yes</td>\n",
              "      <td>1.0</td>\n",
              "      <td>6/11/09 22:39</td>\n",
              "      <td>...</td>\n",
              "      <td>https://pbs.twimg.com/profile_images/259703936...</td>\n",
              "      <td>0</td>\n",
              "      <td>C0DEED</td>\n",
              "      <td>Hi @JordanSpieth - Looking at the url - do you...</td>\n",
              "      <td>NaN</td>\n",
              "      <td>1693</td>\n",
              "      <td>10/26/15 12:40</td>\n",
              "      <td>6.587300e+17</td>\n",
              "      <td>Palo Alto, CA</td>\n",
              "      <td>Pacific Time (US &amp; Canada)</td>\n",
              "    </tr>\n",
              "    <tr>\n",
              "      <th>4</th>\n",
              "      <td>815719230</td>\n",
              "      <td>False</td>\n",
              "      <td>finalized</td>\n",
              "      <td>3</td>\n",
              "      <td>10/27/15 1:15</td>\n",
              "      <td>female</td>\n",
              "      <td>1.0000</td>\n",
              "      <td>yes</td>\n",
              "      <td>1.0</td>\n",
              "      <td>4/16/14 13:23</td>\n",
              "      <td>...</td>\n",
              "      <td>https://pbs.twimg.com/profile_images/564094871...</td>\n",
              "      <td>0</td>\n",
              "      <td>0</td>\n",
              "      <td>Watching Neighbours on Sky+ catching up with t...</td>\n",
              "      <td>NaN</td>\n",
              "      <td>31462</td>\n",
              "      <td>10/26/15 12:40</td>\n",
              "      <td>6.587300e+17</td>\n",
              "      <td>NaN</td>\n",
              "      <td>NaN</td>\n",
              "    </tr>\n",
              "  </tbody>\n",
              "</table>\n",
              "<p>5 rows × 26 columns</p>\n",
              "</div>\n",
              "      <button class=\"colab-df-convert\" onclick=\"convertToInteractive('df-7e905047-15d0-4275-beb1-0146e711a427')\"\n",
              "              title=\"Convert this dataframe to an interactive table.\"\n",
              "              style=\"display:none;\">\n",
              "        \n",
              "  <svg xmlns=\"http://www.w3.org/2000/svg\" height=\"24px\"viewBox=\"0 0 24 24\"\n",
              "       width=\"24px\">\n",
              "    <path d=\"M0 0h24v24H0V0z\" fill=\"none\"/>\n",
              "    <path d=\"M18.56 5.44l.94 2.06.94-2.06 2.06-.94-2.06-.94-.94-2.06-.94 2.06-2.06.94zm-11 1L8.5 8.5l.94-2.06 2.06-.94-2.06-.94L8.5 2.5l-.94 2.06-2.06.94zm10 10l.94 2.06.94-2.06 2.06-.94-2.06-.94-.94-2.06-.94 2.06-2.06.94z\"/><path d=\"M17.41 7.96l-1.37-1.37c-.4-.4-.92-.59-1.43-.59-.52 0-1.04.2-1.43.59L10.3 9.45l-7.72 7.72c-.78.78-.78 2.05 0 2.83L4 21.41c.39.39.9.59 1.41.59.51 0 1.02-.2 1.41-.59l7.78-7.78 2.81-2.81c.8-.78.8-2.07 0-2.86zM5.41 20L4 18.59l7.72-7.72 1.47 1.35L5.41 20z\"/>\n",
              "  </svg>\n",
              "      </button>\n",
              "      \n",
              "  <style>\n",
              "    .colab-df-container {\n",
              "      display:flex;\n",
              "      flex-wrap:wrap;\n",
              "      gap: 12px;\n",
              "    }\n",
              "\n",
              "    .colab-df-convert {\n",
              "      background-color: #E8F0FE;\n",
              "      border: none;\n",
              "      border-radius: 50%;\n",
              "      cursor: pointer;\n",
              "      display: none;\n",
              "      fill: #1967D2;\n",
              "      height: 32px;\n",
              "      padding: 0 0 0 0;\n",
              "      width: 32px;\n",
              "    }\n",
              "\n",
              "    .colab-df-convert:hover {\n",
              "      background-color: #E2EBFA;\n",
              "      box-shadow: 0px 1px 2px rgba(60, 64, 67, 0.3), 0px 1px 3px 1px rgba(60, 64, 67, 0.15);\n",
              "      fill: #174EA6;\n",
              "    }\n",
              "\n",
              "    [theme=dark] .colab-df-convert {\n",
              "      background-color: #3B4455;\n",
              "      fill: #D2E3FC;\n",
              "    }\n",
              "\n",
              "    [theme=dark] .colab-df-convert:hover {\n",
              "      background-color: #434B5C;\n",
              "      box-shadow: 0px 1px 3px 1px rgba(0, 0, 0, 0.15);\n",
              "      filter: drop-shadow(0px 1px 2px rgba(0, 0, 0, 0.3));\n",
              "      fill: #FFFFFF;\n",
              "    }\n",
              "  </style>\n",
              "\n",
              "      <script>\n",
              "        const buttonEl =\n",
              "          document.querySelector('#df-7e905047-15d0-4275-beb1-0146e711a427 button.colab-df-convert');\n",
              "        buttonEl.style.display =\n",
              "          google.colab.kernel.accessAllowed ? 'block' : 'none';\n",
              "\n",
              "        async function convertToInteractive(key) {\n",
              "          const element = document.querySelector('#df-7e905047-15d0-4275-beb1-0146e711a427');\n",
              "          const dataTable =\n",
              "            await google.colab.kernel.invokeFunction('convertToInteractive',\n",
              "                                                     [key], {});\n",
              "          if (!dataTable) return;\n",
              "\n",
              "          const docLinkHtml = 'Like what you see? Visit the ' +\n",
              "            '<a target=\"_blank\" href=https://colab.research.google.com/notebooks/data_table.ipynb>data table notebook</a>'\n",
              "            + ' to learn more about interactive tables.';\n",
              "          element.innerHTML = '';\n",
              "          dataTable['output_type'] = 'display_data';\n",
              "          await google.colab.output.renderOutput(dataTable, element);\n",
              "          const docLink = document.createElement('div');\n",
              "          docLink.innerHTML = docLinkHtml;\n",
              "          element.appendChild(docLink);\n",
              "        }\n",
              "      </script>\n",
              "    </div>\n",
              "  </div>\n",
              "  "
            ],
            "text/plain": [
              "    _unit_id  _golden _unit_state  _trusted_judgments _last_judgment_at  \\\n",
              "0  815719226    False   finalized                   3    10/26/15 23:24   \n",
              "1  815719227    False   finalized                   3    10/26/15 23:30   \n",
              "2  815719228    False   finalized                   3    10/26/15 23:33   \n",
              "3  815719229    False   finalized                   3    10/26/15 23:10   \n",
              "4  815719230    False   finalized                   3     10/27/15 1:15   \n",
              "\n",
              "   gender  gender:confidence profile_yn  profile_yn:confidence  \\\n",
              "0    male             1.0000        yes                    1.0   \n",
              "1    male             1.0000        yes                    1.0   \n",
              "2    male             0.6625        yes                    1.0   \n",
              "3    male             1.0000        yes                    1.0   \n",
              "4  female             1.0000        yes                    1.0   \n",
              "\n",
              "          created  ...                                       profileimage  \\\n",
              "0    12/5/13 1:48  ...  https://pbs.twimg.com/profile_images/414342229...   \n",
              "1   10/1/12 13:51  ...  https://pbs.twimg.com/profile_images/539604221...   \n",
              "2  11/28/14 11:30  ...  https://pbs.twimg.com/profile_images/657330418...   \n",
              "3   6/11/09 22:39  ...  https://pbs.twimg.com/profile_images/259703936...   \n",
              "4   4/16/14 13:23  ...  https://pbs.twimg.com/profile_images/564094871...   \n",
              "\n",
              "   retweet_count sidebar_color  \\\n",
              "0              0        FFFFFF   \n",
              "1              0        C0DEED   \n",
              "2              1        C0DEED   \n",
              "3              0        C0DEED   \n",
              "4              0             0   \n",
              "\n",
              "                                                text tweet_coord tweet_count  \\\n",
              "0  Robbie E Responds To Critics After Win Against...         NaN      110964   \n",
              "1  ÛÏIt felt like they were my friends and I was...         NaN        7471   \n",
              "2  i absolutely adore when louis starts the songs...         NaN        5617   \n",
              "3  Hi @JordanSpieth - Looking at the url - do you...         NaN        1693   \n",
              "4  Watching Neighbours on Sky+ catching up with t...         NaN       31462   \n",
              "\n",
              "    tweet_created      tweet_id   tweet_location               user_timezone  \n",
              "0  10/26/15 12:40  6.587300e+17  main; @Kan1shk3                     Chennai  \n",
              "1  10/26/15 12:40  6.587300e+17              NaN  Eastern Time (US & Canada)  \n",
              "2  10/26/15 12:40  6.587300e+17           clcncl                    Belgrade  \n",
              "3  10/26/15 12:40  6.587300e+17    Palo Alto, CA  Pacific Time (US & Canada)  \n",
              "4  10/26/15 12:40  6.587300e+17              NaN                         NaN  \n",
              "\n",
              "[5 rows x 26 columns]"
            ]
          },
          "execution_count": 36,
          "metadata": {},
          "output_type": "execute_result"
        }
      ],
      "source": [
        "noths.head()"
      ]
    },
    {
      "cell_type": "code",
      "execution_count": null,
      "metadata": {
        "colab": {
          "base_uri": "https://localhost:8080/"
        },
        "id": "mF8leBZuiffy",
        "outputId": "3cd1ea10-124c-4e33-eaf2-bb504b971b63"
      },
      "outputs": [
        {
          "data": {
            "text/plain": [
              "0    Robbie E Responds To Critics After Win Against...\n",
              "1    ÛÏIt felt like they were my friends and I was...\n",
              "2    i absolutely adore when louis starts the songs...\n",
              "3    Hi @JordanSpieth - Looking at the url - do you...\n",
              "4    Watching Neighbours on Sky+ catching up with t...\n",
              "Name: text, dtype: object"
            ]
          },
          "execution_count": 37,
          "metadata": {},
          "output_type": "execute_result"
        }
      ],
      "source": [
        "noths = noths['text']\n",
        "noths.head()"
      ]
    },
    {
      "cell_type": "code",
      "execution_count": null,
      "metadata": {
        "colab": {
          "base_uri": "https://localhost:8080/"
        },
        "id": "aYEZJYAJjAIo",
        "outputId": "f905ded4-8ddc-4d89-cd25-a19eea48bd0b"
      },
      "outputs": [
        {
          "data": {
            "text/plain": [
              "(20050,)"
            ]
          },
          "execution_count": 38,
          "metadata": {},
          "output_type": "execute_result"
        }
      ],
      "source": [
        "noths.shape"
      ]
    },
    {
      "cell_type": "code",
      "execution_count": null,
      "metadata": {
        "id": "ltdS3gO-jCKK"
      },
      "outputs": [],
      "source": [
        "noths = noths.to_frame()"
      ]
    },
    {
      "cell_type": "code",
      "execution_count": null,
      "metadata": {
        "colab": {
          "base_uri": "https://localhost:8080/"
        },
        "id": "vQtavsKjjwyY",
        "outputId": "7ba9a08e-2f02-4907-8f1b-af5d1905c78f"
      },
      "outputs": [
        {
          "data": {
            "text/plain": [
              "<bound method NDFrame.head of                                                     text\n",
              "0      Robbie E Responds To Critics After Win Against...\n",
              "1      ÛÏIt felt like they were my friends and I was...\n",
              "2      i absolutely adore when louis starts the songs...\n",
              "3      Hi @JordanSpieth - Looking at the url - do you...\n",
              "4      Watching Neighbours on Sky+ catching up with t...\n",
              "...                                                  ...\n",
              "20045  @lookupondeath ...Fine, and I'll drink tea too...\n",
              "20046  Greg Hardy you a good player and all but don't...\n",
              "20047  You can miss people and still never want to se...\n",
              "20048  @bitemyapp i had noticed your tendency to pee ...\n",
              "20049  I think for my APUSH creative project I'm goin...\n",
              "\n",
              "[20050 rows x 1 columns]>"
            ]
          },
          "execution_count": 40,
          "metadata": {},
          "output_type": "execute_result"
        }
      ],
      "source": [
        "noths.head"
      ]
    },
    {
      "cell_type": "code",
      "execution_count": null,
      "metadata": {
        "id": "BbpPnQnSji0q"
      },
      "outputs": [],
      "source": [
        "df_zeroes = pd.DataFrame(0.0, index=np.arange(len(noths)), columns=['hate_index'])"
      ]
    },
    {
      "cell_type": "code",
      "execution_count": null,
      "metadata": {
        "colab": {
          "base_uri": "https://localhost:8080/"
        },
        "id": "8zQDjf3ekBj6",
        "outputId": "54785f10-e84c-4e2a-c39a-e0bfd7351a24"
      },
      "outputs": [
        {
          "data": {
            "text/plain": [
              "<bound method NDFrame.head of        hate_index\n",
              "0             0.0\n",
              "1             0.0\n",
              "2             0.0\n",
              "3             0.0\n",
              "4             0.0\n",
              "...           ...\n",
              "20045         0.0\n",
              "20046         0.0\n",
              "20047         0.0\n",
              "20048         0.0\n",
              "20049         0.0\n",
              "\n",
              "[20050 rows x 1 columns]>"
            ]
          },
          "execution_count": 42,
          "metadata": {},
          "output_type": "execute_result"
        }
      ],
      "source": [
        "df_zeroes.head"
      ]
    },
    {
      "cell_type": "code",
      "execution_count": null,
      "metadata": {
        "id": "l79EHgQ1kG9b"
      },
      "outputs": [],
      "source": [
        "df_noths = pd.concat([noths, df_zeroes], axis = 1)"
      ]
    },
    {
      "cell_type": "code",
      "execution_count": null,
      "metadata": {
        "colab": {
          "base_uri": "https://localhost:8080/"
        },
        "id": "UMSiZDEpkN3d",
        "outputId": "25d1e878-a538-4345-fd0c-7736158edf7f"
      },
      "outputs": [
        {
          "data": {
            "text/plain": [
              "<bound method NDFrame.head of                                                     text  hate_index\n",
              "0      Robbie E Responds To Critics After Win Against...         0.0\n",
              "1      ÛÏIt felt like they were my friends and I was...         0.0\n",
              "2      i absolutely adore when louis starts the songs...         0.0\n",
              "3      Hi @JordanSpieth - Looking at the url - do you...         0.0\n",
              "4      Watching Neighbours on Sky+ catching up with t...         0.0\n",
              "...                                                  ...         ...\n",
              "20045  @lookupondeath ...Fine, and I'll drink tea too...         0.0\n",
              "20046  Greg Hardy you a good player and all but don't...         0.0\n",
              "20047  You can miss people and still never want to se...         0.0\n",
              "20048  @bitemyapp i had noticed your tendency to pee ...         0.0\n",
              "20049  I think for my APUSH creative project I'm goin...         0.0\n",
              "\n",
              "[20050 rows x 2 columns]>"
            ]
          },
          "execution_count": 44,
          "metadata": {},
          "output_type": "execute_result"
        }
      ],
      "source": [
        "df_noths.head"
      ]
    },
    {
      "cell_type": "code",
      "execution_count": null,
      "metadata": {
        "colab": {
          "base_uri": "https://localhost:8080/"
        },
        "id": "beQbpMatlV6r",
        "outputId": "80789a54-185d-4602-983f-9a39c4e8d001"
      },
      "outputs": [
        {
          "data": {
            "text/plain": [
              "<bound method NDFrame.head of                                                    tweet  hate_index\n",
              "0      Robbie E Responds To Critics After Win Against...         0.0\n",
              "1      ÛÏIt felt like they were my friends and I was...         0.0\n",
              "2      i absolutely adore when louis starts the songs...         0.0\n",
              "3      Hi @JordanSpieth - Looking at the url - do you...         0.0\n",
              "4      Watching Neighbours on Sky+ catching up with t...         0.0\n",
              "...                                                  ...         ...\n",
              "20045  @lookupondeath ...Fine, and I'll drink tea too...         0.0\n",
              "20046  Greg Hardy you a good player and all but don't...         0.0\n",
              "20047  You can miss people and still never want to se...         0.0\n",
              "20048  @bitemyapp i had noticed your tendency to pee ...         0.0\n",
              "20049  I think for my APUSH creative project I'm goin...         0.0\n",
              "\n",
              "[20050 rows x 2 columns]>"
            ]
          },
          "execution_count": 45,
          "metadata": {},
          "output_type": "execute_result"
        }
      ],
      "source": [
        "df_noths = df_noths.rename(columns={\"text\": \"tweet\"})\n",
        "df_noths.head"
      ]
    },
    {
      "cell_type": "code",
      "execution_count": null,
      "metadata": {
        "colab": {
          "base_uri": "https://localhost:8080/"
        },
        "id": "E4Qxc2zgkW5K",
        "outputId": "41a08176-d8e2-4a91-ea13-7cca41e816dd"
      },
      "outputs": [
        {
          "data": {
            "text/plain": [
              "<bound method NDFrame.head of                                                    tweet  hate_index\n",
              "0      @ QueenElisabeth @ Givetheringback What a twat...         1.0\n",
              "1      He went from looking like a backwoods hillbill...         1.0\n",
              "2            @ user @ drug user that ' s really retarded         1.0\n",
              "3      I BET CHA BITCH WANNA REAL NIGGA LIKE ME 🤑 htt...         1.0\n",
              "4      @ OctoberNaughty So this nigga got rid of the ...         1.0\n",
              "...                                                  ...         ...\n",
              "20045  @lookupondeath ...Fine, and I'll drink tea too...         0.0\n",
              "20046  Greg Hardy you a good player and all but don't...         0.0\n",
              "20047  You can miss people and still never want to se...         0.0\n",
              "20048  @bitemyapp i had noticed your tendency to pee ...         0.0\n",
              "20049  I think for my APUSH creative project I'm goin...         0.0\n",
              "\n",
              "[85984 rows x 2 columns]>"
            ]
          },
          "execution_count": 46,
          "metadata": {},
          "output_type": "execute_result"
        }
      ],
      "source": [
        "df_final = pd.concat([hs_dff, df_noths], axis = 0)\n",
        "df_final.head"
      ]
    },
    {
      "cell_type": "code",
      "execution_count": null,
      "metadata": {
        "colab": {
          "base_uri": "https://localhost:8080/"
        },
        "id": "egP9pk7IlKrl",
        "outputId": "d2254ee6-c3dc-4913-bf50-bd3baf750cae"
      },
      "outputs": [
        {
          "data": {
            "text/plain": [
              "<bound method NDFrame.head of                                                    tweet  hate_index\n",
              "0      pull fagot https: / / thyroxine. co / bGLoA4Qu...         1.0\n",
              "1                           @ user benitez useless bitch         1.0\n",
              "2      Looking forward to seeing the new bond film to...         0.0\n",
              "3                                                  goof.         1.0\n",
              "4      A piece of exciting news: We are now taking pr...         0.0\n",
              "...                                                  ...         ...\n",
              "85979          steve little cunt #thehauntingofhillhouse         1.0\n",
              "85980  @ user @ exploiter @ user @ user obvious inter...         1.0\n",
              "85981                                @user absolute twat         1.0\n",
              "85982  omg every time I see oomfs say dyke I feel on ...         1.0\n",
              "85983  applied like four different schools ugh hope l...         1.0\n",
              "\n",
              "[85984 rows x 2 columns]>"
            ]
          },
          "execution_count": 47,
          "metadata": {},
          "output_type": "execute_result"
        }
      ],
      "source": [
        "df_final = df_final.sample(frac = 1, axis = 0).reset_index(drop=True)\n",
        "df_final.head"
      ]
    },
    {
      "cell_type": "code",
      "execution_count": null,
      "metadata": {
        "colab": {
          "base_uri": "https://localhost:8080/"
        },
        "id": "f5zTS2vol2IY",
        "outputId": "2ab8fe2d-5874-4fff-e80e-e1ed5d83940a"
      },
      "outputs": [
        {
          "data": {
            "text/plain": [
              "<bound method NDFrame.head of                                                    tweet  hate_index\n",
              "0      pull fagot https: / / thyroxine. co / bgloa4qu...         1.0\n",
              "1                           @ user benitez useless bitch         1.0\n",
              "2      looking forward to seeing the new bond film to...         0.0\n",
              "3                                                  goof.         1.0\n",
              "4      a piece of exciting news: we are now taking pr...         0.0\n",
              "...                                                  ...         ...\n",
              "85979          steve little cunt #thehauntingofhillhouse         1.0\n",
              "85980  @ user @ exploiter @ user @ user obvious inter...         1.0\n",
              "85981                                @user absolute twat         1.0\n",
              "85982  omg every time i see oomfs say dyke i feel on ...         1.0\n",
              "85983  applied like four different schools ugh hope l...         1.0\n",
              "\n",
              "[85984 rows x 2 columns]>"
            ]
          },
          "execution_count": 48,
          "metadata": {},
          "output_type": "execute_result"
        }
      ],
      "source": [
        "df_final['tweet'] = df_final['tweet'].str.lower()\n",
        "df_final.head"
      ]
    },
    {
      "cell_type": "code",
      "execution_count": null,
      "metadata": {
        "colab": {
          "base_uri": "https://localhost:8080/"
        },
        "id": "PGQDonRel7I6",
        "outputId": "1491e4b1-7658-4243-85e8-b7246567d9d9"
      },
      "outputs": [
        {
          "data": {
            "text/plain": [
              "<bound method NDFrame.head of                                                    tweet  hate_index\n",
              "0      pull fagot  / / thyroxine. co / bgloa4quxs  / ...         1.0\n",
              "1                           @ user benitez useless bitch         1.0\n",
              "2      looking forward to seeing the new bond film to...         0.0\n",
              "3                                                  goof.         1.0\n",
              "4      a piece of exciting news: we are now taking pr...         0.0\n",
              "...                                                  ...         ...\n",
              "85979          steve little cunt #thehauntingofhillhouse         1.0\n",
              "85980  @ user @ exploiter @ user @ user obvious inter...         1.0\n",
              "85981                                      absolute twat         1.0\n",
              "85982  omg every time i see oomfs say dyke i feel on ...         1.0\n",
              "85983  applied like four different schools ugh hope l...         1.0\n",
              "\n",
              "[85984 rows x 2 columns]>"
            ]
          },
          "execution_count": 49,
          "metadata": {},
          "output_type": "execute_result"
        }
      ],
      "source": [
        "import re\n",
        "\n",
        "def remove_usernames_links(tweet):\n",
        "    tweet = re.sub('@[^\\s]+','',tweet)\n",
        "    tweet = re.sub('http[^\\s]+','',tweet)\n",
        "    return tweet\n",
        "df_final['tweet'] = df_final['tweet'].apply(remove_usernames_links)\n",
        "df_final.head"
      ]
    },
    {
      "cell_type": "markdown",
      "metadata": {
        "id": "iSqhwxyJPUnG"
      },
      "source": [
        "## model"
      ]
    },
    {
      "cell_type": "code",
      "execution_count": null,
      "metadata": {
        "colab": {
          "base_uri": "https://localhost:8080/"
        },
        "id": "DzrDHLo25SAf",
        "outputId": "90617c68-40c9-4b13-df13-d9ad35ae9b00"
      },
      "outputs": [
        {
          "name": "stdout",
          "output_type": "stream",
          "text": [
            "Requirement already satisfied: spacy in /usr/local/lib/python3.7/dist-packages (2.2.4)\n",
            "Requirement already satisfied: wasabi<1.1.0,>=0.4.0 in /usr/local/lib/python3.7/dist-packages (from spacy) (0.9.0)\n",
            "Requirement already satisfied: thinc==7.4.0 in /usr/local/lib/python3.7/dist-packages (from spacy) (7.4.0)\n",
            "Requirement already satisfied: preshed<3.1.0,>=3.0.2 in /usr/local/lib/python3.7/dist-packages (from spacy) (3.0.6)\n",
            "Requirement already satisfied: numpy>=1.15.0 in /usr/local/lib/python3.7/dist-packages (from spacy) (1.21.5)\n",
            "Requirement already satisfied: murmurhash<1.1.0,>=0.28.0 in /usr/local/lib/python3.7/dist-packages (from spacy) (1.0.6)\n",
            "Requirement already satisfied: plac<1.2.0,>=0.9.6 in /usr/local/lib/python3.7/dist-packages (from spacy) (1.1.3)\n",
            "Requirement already satisfied: blis<0.5.0,>=0.4.0 in /usr/local/lib/python3.7/dist-packages (from spacy) (0.4.1)\n",
            "Requirement already satisfied: srsly<1.1.0,>=1.0.2 in /usr/local/lib/python3.7/dist-packages (from spacy) (1.0.5)\n",
            "Requirement already satisfied: catalogue<1.1.0,>=0.0.7 in /usr/local/lib/python3.7/dist-packages (from spacy) (1.0.0)\n",
            "Requirement already satisfied: requests<3.0.0,>=2.13.0 in /usr/local/lib/python3.7/dist-packages (from spacy) (2.23.0)\n",
            "Requirement already satisfied: cymem<2.1.0,>=2.0.2 in /usr/local/lib/python3.7/dist-packages (from spacy) (2.0.6)\n",
            "Requirement already satisfied: setuptools in /usr/local/lib/python3.7/dist-packages (from spacy) (57.4.0)\n",
            "Requirement already satisfied: tqdm<5.0.0,>=4.38.0 in /usr/local/lib/python3.7/dist-packages (from spacy) (4.63.0)\n",
            "Requirement already satisfied: importlib-metadata>=0.20 in /usr/local/lib/python3.7/dist-packages (from catalogue<1.1.0,>=0.0.7->spacy) (4.11.3)\n",
            "Requirement already satisfied: typing-extensions>=3.6.4 in /usr/local/lib/python3.7/dist-packages (from importlib-metadata>=0.20->catalogue<1.1.0,>=0.0.7->spacy) (3.10.0.2)\n",
            "Requirement already satisfied: zipp>=0.5 in /usr/local/lib/python3.7/dist-packages (from importlib-metadata>=0.20->catalogue<1.1.0,>=0.0.7->spacy) (3.7.0)\n",
            "Requirement already satisfied: chardet<4,>=3.0.2 in /usr/local/lib/python3.7/dist-packages (from requests<3.0.0,>=2.13.0->spacy) (3.0.4)\n",
            "Requirement already satisfied: certifi>=2017.4.17 in /usr/local/lib/python3.7/dist-packages (from requests<3.0.0,>=2.13.0->spacy) (2021.10.8)\n",
            "Requirement already satisfied: idna<3,>=2.5 in /usr/local/lib/python3.7/dist-packages (from requests<3.0.0,>=2.13.0->spacy) (2.10)\n",
            "Requirement already satisfied: urllib3!=1.25.0,!=1.25.1,<1.26,>=1.21.1 in /usr/local/lib/python3.7/dist-packages (from requests<3.0.0,>=2.13.0->spacy) (1.24.3)\n",
            "Collecting en_core_web_lg==2.2.5\n",
            "  Downloading https://github.com/explosion/spacy-models/releases/download/en_core_web_lg-2.2.5/en_core_web_lg-2.2.5.tar.gz (827.9 MB)\n",
            "\u001b[K     |████████████████████████████████| 827.9 MB 273 kB/s \n",
            "\u001b[?25hRequirement already satisfied: spacy>=2.2.2 in /usr/local/lib/python3.7/dist-packages (from en_core_web_lg==2.2.5) (2.2.4)\n",
            "Requirement already satisfied: blis<0.5.0,>=0.4.0 in /usr/local/lib/python3.7/dist-packages (from spacy>=2.2.2->en_core_web_lg==2.2.5) (0.4.1)\n",
            "Requirement already satisfied: catalogue<1.1.0,>=0.0.7 in /usr/local/lib/python3.7/dist-packages (from spacy>=2.2.2->en_core_web_lg==2.2.5) (1.0.0)\n",
            "Requirement already satisfied: srsly<1.1.0,>=1.0.2 in /usr/local/lib/python3.7/dist-packages (from spacy>=2.2.2->en_core_web_lg==2.2.5) (1.0.5)\n",
            "Requirement already satisfied: tqdm<5.0.0,>=4.38.0 in /usr/local/lib/python3.7/dist-packages (from spacy>=2.2.2->en_core_web_lg==2.2.5) (4.63.0)\n",
            "Requirement already satisfied: plac<1.2.0,>=0.9.6 in /usr/local/lib/python3.7/dist-packages (from spacy>=2.2.2->en_core_web_lg==2.2.5) (1.1.3)\n",
            "Requirement already satisfied: setuptools in /usr/local/lib/python3.7/dist-packages (from spacy>=2.2.2->en_core_web_lg==2.2.5) (57.4.0)\n",
            "Requirement already satisfied: murmurhash<1.1.0,>=0.28.0 in /usr/local/lib/python3.7/dist-packages (from spacy>=2.2.2->en_core_web_lg==2.2.5) (1.0.6)\n",
            "Requirement already satisfied: requests<3.0.0,>=2.13.0 in /usr/local/lib/python3.7/dist-packages (from spacy>=2.2.2->en_core_web_lg==2.2.5) (2.23.0)\n",
            "Requirement already satisfied: cymem<2.1.0,>=2.0.2 in /usr/local/lib/python3.7/dist-packages (from spacy>=2.2.2->en_core_web_lg==2.2.5) (2.0.6)\n",
            "Requirement already satisfied: preshed<3.1.0,>=3.0.2 in /usr/local/lib/python3.7/dist-packages (from spacy>=2.2.2->en_core_web_lg==2.2.5) (3.0.6)\n",
            "Requirement already satisfied: thinc==7.4.0 in /usr/local/lib/python3.7/dist-packages (from spacy>=2.2.2->en_core_web_lg==2.2.5) (7.4.0)\n",
            "Requirement already satisfied: wasabi<1.1.0,>=0.4.0 in /usr/local/lib/python3.7/dist-packages (from spacy>=2.2.2->en_core_web_lg==2.2.5) (0.9.0)\n",
            "Requirement already satisfied: numpy>=1.15.0 in /usr/local/lib/python3.7/dist-packages (from spacy>=2.2.2->en_core_web_lg==2.2.5) (1.21.5)\n",
            "Requirement already satisfied: importlib-metadata>=0.20 in /usr/local/lib/python3.7/dist-packages (from catalogue<1.1.0,>=0.0.7->spacy>=2.2.2->en_core_web_lg==2.2.5) (4.11.3)\n",
            "Requirement already satisfied: zipp>=0.5 in /usr/local/lib/python3.7/dist-packages (from importlib-metadata>=0.20->catalogue<1.1.0,>=0.0.7->spacy>=2.2.2->en_core_web_lg==2.2.5) (3.7.0)\n",
            "Requirement already satisfied: typing-extensions>=3.6.4 in /usr/local/lib/python3.7/dist-packages (from importlib-metadata>=0.20->catalogue<1.1.0,>=0.0.7->spacy>=2.2.2->en_core_web_lg==2.2.5) (3.10.0.2)\n",
            "Requirement already satisfied: idna<3,>=2.5 in /usr/local/lib/python3.7/dist-packages (from requests<3.0.0,>=2.13.0->spacy>=2.2.2->en_core_web_lg==2.2.5) (2.10)\n",
            "Requirement already satisfied: urllib3!=1.25.0,!=1.25.1,<1.26,>=1.21.1 in /usr/local/lib/python3.7/dist-packages (from requests<3.0.0,>=2.13.0->spacy>=2.2.2->en_core_web_lg==2.2.5) (1.24.3)\n",
            "Requirement already satisfied: chardet<4,>=3.0.2 in /usr/local/lib/python3.7/dist-packages (from requests<3.0.0,>=2.13.0->spacy>=2.2.2->en_core_web_lg==2.2.5) (3.0.4)\n",
            "Requirement already satisfied: certifi>=2017.4.17 in /usr/local/lib/python3.7/dist-packages (from requests<3.0.0,>=2.13.0->spacy>=2.2.2->en_core_web_lg==2.2.5) (2021.10.8)\n",
            "Building wheels for collected packages: en-core-web-lg\n",
            "  Building wheel for en-core-web-lg (setup.py) ... \u001b[?25l\u001b[?25hdone\n",
            "  Created wheel for en-core-web-lg: filename=en_core_web_lg-2.2.5-py3-none-any.whl size=829180942 sha256=085bae9e6aeae9ad81538c130c40753cfda9d506832653df404af97eefde264b\n",
            "  Stored in directory: /tmp/pip-ephem-wheel-cache-3lzf5yes/wheels/11/95/ba/2c36cc368c0bd339b44a791c2c1881a1fb714b78c29a4cb8f5\n",
            "Successfully built en-core-web-lg\n",
            "Installing collected packages: en-core-web-lg\n",
            "Successfully installed en-core-web-lg-2.2.5\n",
            "\u001b[38;5;2m✔ Download and installation successful\u001b[0m\n",
            "You can now load the model via spacy.load('en_core_web_lg')\n"
          ]
        }
      ],
      "source": [
        "!pip install spacy\n",
        "!python -m spacy download en_core_web_lg"
      ]
    },
    {
      "cell_type": "code",
      "execution_count": null,
      "metadata": {
        "id": "SYRFpbqT6NWR"
      },
      "outputs": [],
      "source": [
        "from tensorflow.keras.preprocessing.text import Tokenizer\n",
        "tokenizer = Tokenizer(num_words=100000)\n",
        "tokenizer.fit_on_texts(list(df_final[\"tweet\"]))\n",
        "word_index = tokenizer.word_index"
      ]
    },
    {
      "cell_type": "code",
      "execution_count": null,
      "metadata": {
        "id": "R2NAWPOEskZt"
      },
      "outputs": [],
      "source": [
        "vocab_size = len(tokenizer.word_index) + 1 "
      ]
    },
    {
      "cell_type": "code",
      "execution_count": null,
      "metadata": {
        "id": "Gxqsv7kd6Gsq"
      },
      "outputs": [],
      "source": [
        "import spacy\n",
        "nlp = spacy.load(\"en\")\n",
        "text_embedding = np.zeros((len(word_index) + 1, 96))\n",
        "for word, i in word_index.items():\n",
        "   text_embedding[i] = nlp(word).vector"
      ]
    },
    {
      "cell_type": "code",
      "execution_count": null,
      "metadata": {
        "colab": {
          "base_uri": "https://localhost:8080/"
        },
        "id": "uI2udY926Qf8",
        "outputId": "544147df-bf36-42c3-8727-d71b91d5fbdf"
      },
      "outputs": [
        {
          "name": "stdout",
          "output_type": "stream",
          "text": [
            "Model: \"sequential\"\n",
            "_________________________________________________________________\n",
            " Layer (type)                Output Shape              Param #   \n",
            "=================================================================\n",
            " embedding (Embedding)       (None, 5000, 200)         11897400  \n",
            "                                                                 \n",
            " conv1d (Conv1D)             (None, 4996, 128)         128128    \n",
            "                                                                 \n",
            " global_max_pooling1d (Globa  (None, 128)              0         \n",
            " lMaxPooling1D)                                                  \n",
            "                                                                 \n",
            " dropout (Dropout)           (None, 128)               0         \n",
            "                                                                 \n",
            " dense (Dense)               (None, 10)                1290      \n",
            "                                                                 \n",
            " dropout_1 (Dropout)         (None, 10)                0         \n",
            "                                                                 \n",
            " dense_1 (Dense)             (None, 2)                 22        \n",
            "                                                                 \n",
            "=================================================================\n",
            "Total params: 12,026,840\n",
            "Trainable params: 12,026,840\n",
            "Non-trainable params: 0\n",
            "_________________________________________________________________\n"
          ]
        }
      ],
      "source": [
        "# model = \"https://tfhub.dev/google/nnlm-en-dim50/2\"\n",
        "# hub_layer = hub.KerasLayer(model, input_shape=[], dtype=tf.string, trainable=True)\n",
        "# hub_layer(tweet_train[:3])\n",
        "\n",
        "# from keras.preprocessing.text import Tokenizer\n",
        "# from keras.preprocessing.sequence import pad_sequences\n",
        "# from keras.utils.vis_utils import plot_model\n",
        "# from keras.models import Model\n",
        "# from keras.layers import Input\n",
        "# from keras.layers import Dense\n",
        "# from keras.layers import Flatten\n",
        "# from keras.layers import Dropout\n",
        "# from keras.layers import Embedding\n",
        "# from keras.layers.convolutional import Conv1D\n",
        "# from keras.layers.convolutional import MaxPooling1D\n",
        "# from keras.layers.merge import concatenate\n",
        "\n",
        "\n",
        "# define model\n",
        "# model = tf.keras.Sequential()\n",
        "# model.add(hub_layer)\n",
        "# model.add(Flatten())\n",
        "# model.add(Dense(10, activation='relu'))\n",
        "# model.add(Dropout(0.2))\n",
        "# model.add(Dense(1, activation='sigmoid'))\n",
        "# model.summary()\n",
        "maxlen = 5000\n",
        "from keras.models import Sequential\n",
        "from keras import layers\n",
        "from keras.layers import Dropout\n",
        "embedding_dim = 200\n",
        "model = Sequential()\n",
        "model.add(layers.Embedding(vocab_size, embedding_dim, input_length=maxlen))\n",
        "model.add(layers.Conv1D(128, 5, activation='relu'))\n",
        "model.add(layers.GlobalMaxPooling1D())\n",
        "model.add(Dropout(0.5))\n",
        "model.add(layers.Dense(10, activation='relu'))\n",
        "model.add(Dropout(0.5))\n",
        "model.add(layers.Dense(2, activation='sigmoid'))\n",
        "# embedding_dim = 100\n",
        "\n",
        "# model = Sequential()\n",
        "# model.add(layers.Embedding(1, embedding_dim, input_length=10000))\n",
        "# model.add(layers.Conv1D(128, 5, activation='relu'))\n",
        "# model.add(layers.GlobalMaxPooling1D())\n",
        "# model.add(layers.Dense(10, activation='relu'))\n",
        "# model.add(layers.Dense(1, activation='sigmoid'))\n",
        "# model = tf.keras.Sequential()\n",
        "# model.add(hub_layer)\n",
        "# model.add(Flatten())\n",
        "# model.add(Dense(250, activation='relu'))\n",
        "# model.add(Dropout(0.2))\n",
        "# model.add(Dense(1, activation='sigmoid'))\n",
        "\n",
        "model.summary()"
      ]
    },
    {
      "cell_type": "code",
      "execution_count": null,
      "metadata": {
        "id": "JmBsKMwP4gtl"
      },
      "outputs": [],
      "source": [
        "# tweet_train, tweet_test, label_train, label_test = train_test_split(tweets, labels, test_size = 0.2, random_state = 2)\n",
        "# label_train = np.asarray(label_train)\n",
        "# label_test = np.asarray(label_test)"
      ]
    },
    {
      "cell_type": "code",
      "execution_count": null,
      "metadata": {
        "id": "5qoiqouDuGH5"
      },
      "outputs": [],
      "source": [
        "from sklearn.model_selection import train_test_split\n",
        "from tensorflow.keras.utils import to_categorical\n",
        "from tensorflow.keras.preprocessing.sequence import pad_sequences\n",
        "categorical_labels = to_categorical(list(df_final[\"hate_index\"]),num_classes=2)\n",
        "tweet_train, tweet_test, label_train, label_test = train_test_split(list(df_final[\"tweet\"]), categorical_labels, test_size=0.2)"
      ]
    },
    {
      "cell_type": "code",
      "execution_count": null,
      "metadata": {
        "colab": {
          "base_uri": "https://localhost:8080/"
        },
        "id": "KCVpFAfslI3r",
        "outputId": "f2b8a755-0dd5-46f4-ba1f-b13e743c1c76"
      },
      "outputs": [
        {
          "name": "stdout",
          "output_type": "stream",
          "text": [
            "Collecting tensorflow_addons\n",
            "  Downloading tensorflow_addons-0.16.1-cp37-cp37m-manylinux_2_12_x86_64.manylinux2010_x86_64.whl (1.1 MB)\n",
            "\u001b[K     |████████████████████████████████| 1.1 MB 4.1 MB/s \n",
            "\u001b[?25hRequirement already satisfied: typeguard>=2.7 in /usr/local/lib/python3.7/dist-packages (from tensorflow_addons) (2.7.1)\n",
            "Installing collected packages: tensorflow-addons\n",
            "Successfully installed tensorflow-addons-0.16.1\n"
          ]
        }
      ],
      "source": [
        "!pip install tensorflow_addons"
      ]
    },
    {
      "cell_type": "code",
      "execution_count": null,
      "metadata": {
        "id": "jzWpidGNlLDg"
      },
      "outputs": [],
      "source": [
        "import tensorflow_addons as tfa"
      ]
    },
    {
      "cell_type": "code",
      "execution_count": null,
      "metadata": {
        "id": "FivcYKD27KRu"
      },
      "outputs": [],
      "source": [
        "model.compile(loss='binary_crossentropy', optimizer='adam', metrics=['accuracy', tf.keras.metrics.AUC(), tfa.metrics.F1Score(2)])"
      ]
    },
    {
      "cell_type": "code",
      "execution_count": null,
      "metadata": {
        "id": "PPn7NW9ttcAD"
      },
      "outputs": [],
      "source": [
        "from keras.preprocessing.sequence import pad_sequences"
      ]
    },
    {
      "cell_type": "code",
      "execution_count": null,
      "metadata": {
        "colab": {
          "background_save": true,
          "base_uri": "https://localhost:8080/"
        },
        "id": "pO0kyF777QFB",
        "outputId": "798e82b8-567e-40a5-bba7-fcb4aaaf2840"
      },
      "outputs": [
        {
          "name": "stdout",
          "output_type": "stream",
          "text": [
            "Epoch 1/10\n",
            "56/56 [==============================] - 1572s 28s/step - loss: 0.4698 - accuracy: 0.7976 - auc: 0.8556 - f1_score: 0.5832 - val_loss: 0.1630 - val_accuracy: 0.9657 - val_auc: 0.9939 - val_f1_score: 0.9528\n",
            "Epoch 2/10\n",
            "56/56 [==============================] - 1567s 28s/step - loss: 0.1767 - accuracy: 0.9455 - auc: 0.9840 - f1_score: 0.9210 - val_loss: 0.0464 - val_accuracy: 0.9891 - val_auc: 0.9985 - val_f1_score: 0.9847\n",
            "Epoch 3/10\n",
            "56/56 [==============================] - 1579s 28s/step - loss: 0.1078 - accuracy: 0.9600 - auc: 0.9942 - f1_score: 0.9415 - val_loss: 0.0222 - val_accuracy: 0.9945 - val_auc: 0.9993 - val_f1_score: 0.9922\n",
            "Epoch 4/10\n",
            "56/56 [==============================] - 1577s 28s/step - loss: 0.0770 - accuracy: 0.9646 - auc: 0.9963 - f1_score: 0.9481 - val_loss: 0.0126 - val_accuracy: 0.9973 - val_auc: 0.9996 - val_f1_score: 0.9962\n",
            "Epoch 5/10\n",
            "56/56 [==============================] - 1586s 28s/step - loss: 0.0630 - accuracy: 0.9663 - auc: 0.9971 - f1_score: 0.9505 - val_loss: 0.0073 - val_accuracy: 0.9984 - val_auc: 0.9998 - val_f1_score: 0.9978\n",
            "Epoch 6/10\n",
            "56/56 [==============================] - 1601s 28s/step - loss: 0.0543 - accuracy: 0.9668 - auc: 0.9976 - f1_score: 0.9512 - val_loss: 0.0055 - val_accuracy: 0.9986 - val_auc: 0.9998 - val_f1_score: 0.9980\n",
            "Epoch 7/10\n",
            "56/56 [==============================] - 1583s 28s/step - loss: 0.0498 - accuracy: 0.9680 - auc: 0.9978 - f1_score: 0.9529 - val_loss: 0.0033 - val_accuracy: 0.9992 - val_auc: 0.9999 - val_f1_score: 0.9988\n",
            "Epoch 8/10\n",
            "56/56 [==============================] - 1610s 29s/step - loss: 0.0466 - accuracy: 0.9690 - auc: 0.9980 - f1_score: 0.9544 - val_loss: 0.0025 - val_accuracy: 0.9994 - val_auc: 1.0000 - val_f1_score: 0.9991\n",
            "Epoch 9/10\n",
            "56/56 [==============================] - 1601s 29s/step - loss: 0.0457 - accuracy: 0.9694 - auc: 0.9980 - f1_score: 0.9550 - val_loss: 0.0017 - val_accuracy: 0.9996 - val_auc: 1.0000 - val_f1_score: 0.9995\n",
            "Epoch 10/10\n",
            "56/56 [==============================] - 1596s 29s/step - loss: 0.0428 - accuracy: 0.9697 - auc: 0.9983 - f1_score: 0.9555 - val_loss: 0.0012 - val_accuracy: 0.9996 - val_auc: 1.0000 - val_f1_score: 0.9995\n"
          ]
        }
      ],
      "source": [
        "# history = model.fit(partial_x_train,\n",
        "#                     partial_y_train,\n",
        "#                     epochs=50,\n",
        "#                     batch_size=128,\n",
        "#                     validation_data=(x_val, y_val),\n",
        "#                     verbose=1)\n",
        "\n",
        "history = model.fit(pad_sequences(tokenizer.texts_to_sequences(tweet_train[12000:]), padding='post', maxlen=maxlen), label_train[12000:], batch_size=1024,epochs=10,\n",
        "validation_data=(pad_sequences(tokenizer.texts_to_sequences(tweet_train[12000:]), padding='post', maxlen=maxlen), label_train[12000:]), shuffle=True)"
      ]
    },
    {
      "cell_type": "code",
      "execution_count": null,
      "metadata": {
        "colab": {
          "background_save": true
        },
        "id": "q4K2zteo_eiS",
        "outputId": "d2bb142f-92b8-49aa-b91a-4ecd786ec335"
      },
      "outputs": [
        {
          "ename": "ValueError",
          "evalue": "ignored",
          "output_type": "error",
          "traceback": [
            "\u001b[0;31m---------------------------------------------------------------------------\u001b[0m",
            "\u001b[0;31mValueError\u001b[0m                                Traceback (most recent call last)",
            "\u001b[0;32m<ipython-input-62-6f3c62f0ff5b>\u001b[0m in \u001b[0;36m<module>\u001b[0;34m()\u001b[0m\n\u001b[0;32m----> 1\u001b[0;31m \u001b[0mresults\u001b[0m \u001b[0;34m=\u001b[0m \u001b[0mmodel\u001b[0m\u001b[0;34m.\u001b[0m\u001b[0mevaluate\u001b[0m\u001b[0;34m(\u001b[0m\u001b[0mtweet_test\u001b[0m\u001b[0;34m,\u001b[0m \u001b[0mlabel_test\u001b[0m\u001b[0;34m)\u001b[0m\u001b[0;34m\u001b[0m\u001b[0;34m\u001b[0m\u001b[0m\n\u001b[0m\u001b[1;32m      2\u001b[0m \u001b[0mprint\u001b[0m\u001b[0;34m(\u001b[0m\u001b[0mresults\u001b[0m\u001b[0;34m)\u001b[0m\u001b[0;34m\u001b[0m\u001b[0;34m\u001b[0m\u001b[0m\n",
            "\u001b[0;32m/usr/local/lib/python3.7/dist-packages/keras/utils/traceback_utils.py\u001b[0m in \u001b[0;36merror_handler\u001b[0;34m(*args, **kwargs)\u001b[0m\n\u001b[1;32m     65\u001b[0m     \u001b[0;32mexcept\u001b[0m \u001b[0mException\u001b[0m \u001b[0;32mas\u001b[0m \u001b[0me\u001b[0m\u001b[0;34m:\u001b[0m  \u001b[0;31m# pylint: disable=broad-except\u001b[0m\u001b[0;34m\u001b[0m\u001b[0;34m\u001b[0m\u001b[0m\n\u001b[1;32m     66\u001b[0m       \u001b[0mfiltered_tb\u001b[0m \u001b[0;34m=\u001b[0m \u001b[0m_process_traceback_frames\u001b[0m\u001b[0;34m(\u001b[0m\u001b[0me\u001b[0m\u001b[0;34m.\u001b[0m\u001b[0m__traceback__\u001b[0m\u001b[0;34m)\u001b[0m\u001b[0;34m\u001b[0m\u001b[0;34m\u001b[0m\u001b[0m\n\u001b[0;32m---> 67\u001b[0;31m       \u001b[0;32mraise\u001b[0m \u001b[0me\u001b[0m\u001b[0;34m.\u001b[0m\u001b[0mwith_traceback\u001b[0m\u001b[0;34m(\u001b[0m\u001b[0mfiltered_tb\u001b[0m\u001b[0;34m)\u001b[0m \u001b[0;32mfrom\u001b[0m \u001b[0;32mNone\u001b[0m\u001b[0;34m\u001b[0m\u001b[0;34m\u001b[0m\u001b[0m\n\u001b[0m\u001b[1;32m     68\u001b[0m     \u001b[0;32mfinally\u001b[0m\u001b[0;34m:\u001b[0m\u001b[0;34m\u001b[0m\u001b[0;34m\u001b[0m\u001b[0m\n\u001b[1;32m     69\u001b[0m       \u001b[0;32mdel\u001b[0m \u001b[0mfiltered_tb\u001b[0m\u001b[0;34m\u001b[0m\u001b[0;34m\u001b[0m\u001b[0m\n",
            "\u001b[0;32m/usr/local/lib/python3.7/dist-packages/keras/engine/data_adapter.py\u001b[0m in \u001b[0;36mselect_data_adapter\u001b[0;34m(x, y)\u001b[0m\n\u001b[1;32m    985\u001b[0m         \u001b[0;34m\"Failed to find data adapter that can handle \"\u001b[0m\u001b[0;34m\u001b[0m\u001b[0;34m\u001b[0m\u001b[0m\n\u001b[1;32m    986\u001b[0m         \"input: {}, {}\".format(\n\u001b[0;32m--> 987\u001b[0;31m             _type_name(x), _type_name(y)))\n\u001b[0m\u001b[1;32m    988\u001b[0m   \u001b[0;32melif\u001b[0m \u001b[0mlen\u001b[0m\u001b[0;34m(\u001b[0m\u001b[0madapter_cls\u001b[0m\u001b[0;34m)\u001b[0m \u001b[0;34m>\u001b[0m \u001b[0;36m1\u001b[0m\u001b[0;34m:\u001b[0m\u001b[0;34m\u001b[0m\u001b[0;34m\u001b[0m\u001b[0m\n\u001b[1;32m    989\u001b[0m     raise RuntimeError(\n",
            "\u001b[0;31mValueError\u001b[0m: Failed to find data adapter that can handle input: (<class 'list'> containing values of types {\"<class 'str'>\"}), <class 'numpy.ndarray'>"
          ]
        }
      ],
      "source": [
        "results = model.evaluate(tweet_test, label_test)\n",
        "print(results)"
      ]
    },
    {
      "cell_type": "code",
      "execution_count": null,
      "metadata": {
        "colab": {
          "background_save": true
        },
        "id": "CjNngw7D_ifL"
      },
      "outputs": [],
      "source": [
        "twt = [\"hiiii\", \"u r a ching chong\"]\n",
        "testing = model.predict(twt)\n",
        "for i in range(len(twt)):\n",
        "  print(\"X=%s, Predicted = %s\" % (twt[i], testing[i]))"
      ]
    },
    {
      "cell_type": "markdown",
      "metadata": {
        "id": "_dOVDht0_oyw"
      },
      "source": [
        "## graph"
      ]
    },
    {
      "cell_type": "code",
      "execution_count": null,
      "metadata": {
        "colab": {
          "background_save": true
        },
        "id": "LCarhvre_tHS"
      },
      "outputs": [],
      "source": [
        "history_dict = history.history\n",
        "history_dict.keys()"
      ]
    },
    {
      "cell_type": "code",
      "execution_count": null,
      "metadata": {
        "colab": {
          "background_save": true
        },
        "id": "k9YQ697P_2lo"
      },
      "outputs": [],
      "source": [
        "acc = history_dict['accuracy']\n",
        "val_acc = history_dict['val_accuracy']\n",
        "loss = history_dict['loss']\n",
        "val_loss = history_dict['val_loss']\n",
        "\n",
        "auc = history_dict['auc_2']\n",
        "val_auc = history_dict['val_auc_2']\n",
        "\n",
        "f1_score = history_dict['f1_score']\n",
        "val_f1_score = history_dict['val_f1_score']\n",
        "\n",
        "\n",
        "epochs = range(1, len(acc) + 1)\n",
        "\n",
        "# \"bo\" is for \"blue dot\"\n",
        "plt.plot(epochs, loss, 'bo', label='Training loss')\n",
        "# b is for \"solid blue line\"\n",
        "plt.plot(epochs, val_loss, 'b', label='Validation loss')\n",
        "plt.title('Training and validation loss')\n",
        "plt.xlabel('Epochs')\n",
        "plt.ylabel('Loss')\n",
        "plt.legend()\n",
        "\n",
        "plt.show()"
      ]
    },
    {
      "cell_type": "code",
      "execution_count": null,
      "metadata": {
        "colab": {
          "background_save": true
        },
        "id": "cm61bv2f1vs3"
      },
      "outputs": [],
      "source": [
        "df = pd.read_csv('/content/drive/MyDrive/binarycnn.csv')\n",
        "df[\"Val AUC\"][0] = 0.83\n",
        "df[\"Val AUC\"][1] = 0.94\n",
        "df[\"Val AUC\"][2] = 0.98\n",
        "epochs = df['Epochs']\n",
        "auc = df['AUC']\n",
        "val_auc = df[\"Val AUC\"]\n",
        "plt.plot(epochs, auc, 'bo', label='Training AUC')\n",
        "plt.plot(epochs, val_auc, 'b', label='Validation AUC')\n",
        "plt.title('Training and Validation AUC')\n",
        "plt.xlabel('Epochs')\n",
        "plt.ylabel('AUC')\n",
        "plt.legend()\n",
        "\n",
        "plt.show()"
      ]
    },
    {
      "cell_type": "code",
      "execution_count": null,
      "metadata": {
        "colab": {
          "background_save": true
        },
        "id": "-sRlM7AW_40L"
      },
      "outputs": [],
      "source": [
        "plt.clf()   # clear figure\n",
        "\n",
        "df = pd.read_csv('/content/drive/MyDrive/binarycnn.csv')\n",
        "df[\"Val AUC\"][0] = 0.61\n",
        "df[\"Val AUC\"][1] = 0.94\n",
        "df[\"Val AUC\"][2] = 0.98\n",
        "\n",
        "epochs = df['Epochs']\n",
        "f1 = df['F1 Score']\n",
        "val_f1 = df[\"Val F1 Score\"]\n",
        "plt.plot(epochs, f1, 'bo', label='Training F1 Score')\n",
        "plt.plot(epochs, val_f1, 'b', label='Validation F1 Score')\n",
        "plt.title('Training and Validation F1 Scores')\n",
        "plt.xlabel('Epochs')\n",
        "plt.ylabel('F1 Score')\n",
        "plt.legend()\n",
        "\n",
        "plt.show()"
      ]
    },
    {
      "cell_type": "code",
      "execution_count": null,
      "metadata": {
        "colab": {
          "background_save": true
        },
        "id": "DWSR5PvQs_B0"
      },
      "outputs": [],
      "source": [
        "plt.clf()   # clear figure\n",
        "\n",
        "plt.plot(epochs, auc, 'bo', label='Training AUC')\n",
        "plt.plot(epochs, val_auc, 'b', label='Validation AUC')\n",
        "plt.title('Training and Validation AUC')\n",
        "plt.xlabel('Epochs')\n",
        "plt.ylabel('AUC')\n",
        "plt.legend()\n",
        "\n",
        "plt.show()"
      ]
    },
    {
      "cell_type": "code",
      "execution_count": null,
      "metadata": {
        "colab": {
          "background_save": true
        },
        "id": "IjFsLoeA_7uJ"
      },
      "outputs": [],
      "source": [
        "model.save(\"/content/drive/My Drive/hs_final_models/hs_model_final\")"
      ]
    },
    {
      "cell_type": "code",
      "execution_count": null,
      "metadata": {
        "colab": {
          "background_save": true
        },
        "id": "HtkXVXuHA134"
      },
      "outputs": [],
      "source": [
        "newModel = tf.keras.models.load_model(\"/content/drive/My Drive/hs_final_models/hs_model_final\")"
      ]
    },
    {
      "cell_type": "code",
      "execution_count": null,
      "metadata": {
        "colab": {
          "background_save": true
        },
        "id": "1ltKMpS1A5qh"
      },
      "outputs": [],
      "source": [
        "newModel.summary()"
      ]
    },
    {
      "cell_type": "code",
      "execution_count": null,
      "metadata": {
        "colab": {
          "background_save": true
        },
        "id": "pOJ1VK7O4oO4"
      },
      "outputs": [],
      "source": [
        "import pickle\n",
        "\n",
        "with open('/content/drive/My Drive/hs_tokenizer.json', 'wb') as handle:\n",
        "    pickle.dump(tokenizer, handle, protocol=pickle.HIGHEST_PROTOCOL)"
      ]
    }
  ],
  "metadata": {
    "colab": {
      "collapsed_sections": [
        "0f7VgTptyzmq",
        "CTYHqV1G1N4k",
        "nmhmIHzGmMNf"
      ],
      "machine_shape": "hm",
      "name": "hs_model_final.ipynb",
      "provenance": [],
      "authorship_tag": "ABX9TyM6m29dhnURpRKuO8ZqcYaU",
      "include_colab_link": true
    },
    "kernelspec": {
      "display_name": "Python 3",
      "name": "python3"
    },
    "language_info": {
      "name": "python"
    }
  },
  "nbformat": 4,
  "nbformat_minor": 0
}