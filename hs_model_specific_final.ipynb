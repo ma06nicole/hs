{
  "cells": [
    {
      "cell_type": "markdown",
      "metadata": {
        "id": "view-in-github",
        "colab_type": "text"
      },
      "source": [
        "<a href=\"https://colab.research.google.com/github/ma06nicole/hs/blob/master/hs_model_specific_final.ipynb\" target=\"_parent\"><img src=\"https://colab.research.google.com/assets/colab-badge.svg\" alt=\"Open In Colab\"/></a>"
      ]
    },
    {
      "cell_type": "code",
      "execution_count": null,
      "metadata": {
        "id": "9etilIYB4z5Z"
      },
      "outputs": [],
      "source": [
        "import tensorflow as tf\n",
        "import numpy as np\n",
        "import pandas as pd\n",
        "import matplotlib.pyplot as plt\n",
        "from sklearn.model_selection import train_test_split\n",
        "import tensorflow_datasets as tfds\n",
        "import tensorflow_hub as hub\n",
        "from tensorflow import keras"
      ]
    },
    {
      "cell_type": "code",
      "execution_count": null,
      "metadata": {
        "colab": {
          "base_uri": "https://localhost:8080/"
        },
        "id": "auAYwvaa45Px",
        "outputId": "4784b155-ff56-4721-bffd-5806c281d8eb"
      },
      "outputs": [
        {
          "name": "stdout",
          "output_type": "stream",
          "text": [
            "Drive already mounted at /content/drive; to attempt to forcibly remount, call drive.mount(\"/content/drive\", force_remount=True).\n"
          ]
        }
      ],
      "source": [
        "from google.colab import drive\n",
        "drive.mount('/content/drive')"
      ]
    },
    {
      "cell_type": "code",
      "execution_count": null,
      "metadata": {
        "id": "3ONK8Wtf5BJo"
      },
      "outputs": [],
      "source": [
        "import pickle\n",
        "with open('/content/drive/My Drive/hs_df_final.csv', 'rb') as fp:\n",
        "  df_final = pickle.load(fp)"
      ]
    },
    {
      "cell_type": "code",
      "execution_count": null,
      "metadata": {
        "colab": {
          "base_uri": "https://localhost:8080/"
        },
        "id": "eFqKMG2k5BlZ",
        "outputId": "3fc936e2-fe6a-4a89-cbf6-082ab606043a"
      },
      "outputs": [
        {
          "data": {
            "text/plain": [
              "<bound method NDFrame.head of                                                    tweet group\n",
              "0                  #sissy faggot https://t.co/bm1nk8hcyo   0.0\n",
              "1      big dyke energy right there https://t.co/nrepg...   0.0\n",
              "2       @lokohobo1 no u   faggot https://t.co/r7yml0vepj   0.0\n",
              "3      faggot in chastity like it should be 24/7! htt...   0.0\n",
              "4      @rockwelsrevenge @ayoariberry i imagine it’s t...   0.0\n",
              "...                                                  ...   ...\n",
              "65929  actually this eldritch mass are harmful! they ...   4.0\n",
              "65930  actually this weird hoi polloi are harmful! th...   4.0\n",
              "65931  abu district attorney atomic number 83 aba du ...   4.0\n",
              "65932  abu da bi aba du ba ba hamud! see? i ’ m an ar...   4.0\n",
              "65933  abu da bismuth aba du ba ba hamud! see? i ’ m ...   4.0\n",
              "\n",
              "[65934 rows x 2 columns]>"
            ]
          },
          "execution_count": 4,
          "metadata": {},
          "output_type": "execute_result"
        }
      ],
      "source": [
        "df_final['tweet'] = df_final['tweet'].str.lower()\n",
        "df_final.head"
      ]
    },
    {
      "cell_type": "code",
      "execution_count": null,
      "metadata": {
        "colab": {
          "base_uri": "https://localhost:8080/"
        },
        "id": "962lgAX75DlB",
        "outputId": "ae4f7cf7-c033-401c-d807-35032864b9a8"
      },
      "outputs": [
        {
          "data": {
            "text/plain": [
              "<bound method NDFrame.head of                                                    tweet group\n",
              "0                                         #sissy faggot    0.0\n",
              "1                           big dyke energy right there    0.0\n",
              "2                                         no u   faggot    0.0\n",
              "3            faggot in chastity like it should be 24/7!    0.0\n",
              "4        i imagine it’s the same way he rationalizes ...   0.0\n",
              "...                                                  ...   ...\n",
              "65929  actually this eldritch mass are harmful! they ...   4.0\n",
              "65930  actually this weird hoi polloi are harmful! th...   4.0\n",
              "65931  abu district attorney atomic number 83 aba du ...   4.0\n",
              "65932  abu da bi aba du ba ba hamud! see? i ’ m an ar...   4.0\n",
              "65933  abu da bismuth aba du ba ba hamud! see? i ’ m ...   4.0\n",
              "\n",
              "[65934 rows x 2 columns]>"
            ]
          },
          "execution_count": 5,
          "metadata": {},
          "output_type": "execute_result"
        }
      ],
      "source": [
        "import re\n",
        "\n",
        "def remove_usernames_links(tweet):\n",
        "    tweet = re.sub('@[^\\s]+','',tweet)\n",
        "    tweet = re.sub('http[^\\s]+','',tweet)\n",
        "    return tweet\n",
        "df_final['tweet'] = df_final['tweet'].apply(remove_usernames_links)\n",
        "df_final.head"
      ]
    },
    {
      "cell_type": "code",
      "execution_count": null,
      "metadata": {
        "colab": {
          "base_uri": "https://localhost:8080/"
        },
        "id": "5HpUcdwQBFI-",
        "outputId": "a0e0d5d8-7d7c-4b34-ba7f-edfdd6bb69e8"
      },
      "outputs": [
        {
          "data": {
            "text/plain": [
              "<bound method NDFrame.head of                                                    tweet group\n",
              "0      @ whitemanswhole exclude upward faggot  / / t....   0.0\n",
              "1                                             no nigger    3.0\n",
              "2      dear katarzyna i ’ m sorry for calling you a f...   2.0\n",
              "3      you a faggot? look what 1 have for you! .. .. ...   0.0\n",
              "4                      know want aver nigger hulk. @ url   4.0\n",
              "...                                                  ...   ...\n",
              "11995          called country parents birth shithole sh    4.0\n",
              "11996   diversity general eurafrica particular (((the...   4.0\n",
              "11997  this why i always keep a fat nigga in my squad 💯    3.0\n",
              "11998               it's complete    #griselda nigga 🤙🏾    3.0\n",
              "11999                              he said cunt 🤣🤣🤣😭😭😭😱    2.0\n",
              "\n",
              "[12000 rows x 2 columns]>"
            ]
          },
          "execution_count": 6,
          "metadata": {},
          "output_type": "execute_result"
        }
      ],
      "source": [
        "df_final = df_final.sample(frac=1).reset_index(drop=True)\n",
        "df_final = df_final[:12000]\n",
        "df_final.head"
      ]
    },
    {
      "cell_type": "code",
      "execution_count": null,
      "metadata": {
        "id": "jj5Ua_nt5E2l"
      },
      "outputs": [],
      "source": [
        "with open('/content/drive/My Drive/tokenizer.json', 'rb') as fp:\n",
        "  tokenizer = pickle.load(fp)\n",
        "word_index = tokenizer.word_index"
      ]
    },
    {
      "cell_type": "code",
      "execution_count": null,
      "metadata": {
        "colab": {
          "base_uri": "https://localhost:8080/"
        },
        "id": "uQfz21UE5G55",
        "outputId": "4f36dc24-4386-4cd4-bccf-04b45a655cd9"
      },
      "outputs": [
        {
          "name": "stdout",
          "output_type": "stream",
          "text": [
            "Requirement already satisfied: tensorflow_addons in /usr/local/lib/python3.7/dist-packages (0.16.1)\n",
            "Requirement already satisfied: typeguard>=2.7 in /usr/local/lib/python3.7/dist-packages (from tensorflow_addons) (2.7.1)\n"
          ]
        }
      ],
      "source": [
        "!pip install tensorflow_addons"
      ]
    },
    {
      "cell_type": "code",
      "execution_count": null,
      "metadata": {
        "id": "x95P9hSP5KTL"
      },
      "outputs": [],
      "source": [
        "with open('/content/drive/My Drive/text_embedding.json', 'rb') as fp:\n",
        "  text_embedding = pickle.load(fp)"
      ]
    },
    {
      "cell_type": "code",
      "execution_count": null,
      "metadata": {
        "id": "tcAMktM45L1-"
      },
      "outputs": [],
      "source": [
        "import tensorflow as tf\n",
        "from tensorflow.keras.models import Sequential,Model\n",
        "from tensorflow.keras.layers import Dense, LSTM, Embedding,Dropout,SpatialDropout1D,Conv1D,MaxPooling1D,GRU,BatchNormalization, Activation\n",
        "from tensorflow.keras.layers import Input,Bidirectional,GlobalAveragePooling1D,GlobalMaxPooling1D,concatenate,LeakyReLU\n",
        "from tensorflow.keras import regularizers\n",
        "from tensorflow.keras import backend as K\n",
        "import tensorflow_addons as tfa\n",
        "\n",
        "MAX_SEQUENCE_LENGTH = 5000\n",
        "filters = 5\n",
        "kernel_size = 3\n",
        "lstm_units = 300\n",
        "\n",
        "model = Sequential()\n",
        "model.add(\n",
        "Embedding(input_dim=text_embedding.shape[0],\n",
        "output_dim=text_embedding.shape[1],\n",
        "weights=[text_embedding],\n",
        "input_length=MAX_SEQUENCE_LENGTH,\n",
        "trainable=False))\n",
        "model.add(SpatialDropout1D(0.2))\n",
        "model.add(Conv1D(filters, kernel_size=kernel_size,kernel_regularizer=regularizers.l2(0.00001), padding='same'))\n",
        "model.add(LeakyReLU(alpha=0.2))\n",
        "model.add(MaxPooling1D(pool_size=2))\n",
        "model.add(Bidirectional(LSTM(lstm_units,dropout=0.2, recurrent_dropout=0.2,return_sequences=True)))\n",
        "model.add(SpatialDropout1D(0.2))\n",
        "model.add(Conv1D(filters, kernel_size=kernel_size,kernel_regularizer=regularizers.l2(0.00001), padding='same'))\n",
        "model.add(LeakyReLU(alpha=0.2))\n",
        "model.add(MaxPooling1D(pool_size=2))\n",
        "model.add(Bidirectional(LSTM(lstm_units,dropout=0.2, recurrent_dropout=0.2,return_sequences=True)))\n",
        "model.add(SpatialDropout1D(0.2))\n",
        "model.add(Conv1D(filters, kernel_size=kernel_size,kernel_regularizer=regularizers.l2(0.00001), padding='same'))\n",
        "model.add(LeakyReLU(alpha=0.2))\n",
        "model.add(MaxPooling1D(pool_size=2))\n",
        "model.add(Bidirectional(LSTM(lstm_units,dropout=0.2, recurrent_dropout=0.2)))\n",
        "model.add(Dense(5,activation='softmax'))\n",
        "model.compile(optimizer='adam',loss='categorical_crossentropy', metrics=['accuracy' , tf.keras.metrics.AUC(), tfa.metrics.F1Score(5)])"
      ]
    },
    {
      "cell_type": "code",
      "execution_count": null,
      "metadata": {
        "colab": {
          "base_uri": "https://localhost:8080/"
        },
        "id": "y9M8gTP7B5p7",
        "outputId": "534b608a-5ca4-4fbd-9fe9-89499a00dc1d"
      },
      "outputs": [
        {
          "name": "stdout",
          "output_type": "stream",
          "text": [
            "Model: \"sequential\"\n",
            "_________________________________________________________________\n",
            " Layer (type)                Output Shape              Param #   \n",
            "=================================================================\n",
            " embedding (Embedding)       (None, 5000, 96)          4094304   \n",
            "                                                                 \n",
            " spatial_dropout1d (SpatialD  (None, 5000, 96)         0         \n",
            " ropout1D)                                                       \n",
            "                                                                 \n",
            " conv1d (Conv1D)             (None, 5000, 5)           1445      \n",
            "                                                                 \n",
            " leaky_re_lu (LeakyReLU)     (None, 5000, 5)           0         \n",
            "                                                                 \n",
            " max_pooling1d (MaxPooling1D  (None, 2500, 5)          0         \n",
            " )                                                               \n",
            "                                                                 \n",
            " bidirectional (Bidirectiona  (None, 2500, 600)        734400    \n",
            " l)                                                              \n",
            "                                                                 \n",
            " spatial_dropout1d_1 (Spatia  (None, 2500, 600)        0         \n",
            " lDropout1D)                                                     \n",
            "                                                                 \n",
            " conv1d_1 (Conv1D)           (None, 2500, 5)           9005      \n",
            "                                                                 \n",
            " leaky_re_lu_1 (LeakyReLU)   (None, 2500, 5)           0         \n",
            "                                                                 \n",
            " max_pooling1d_1 (MaxPooling  (None, 1250, 5)          0         \n",
            " 1D)                                                             \n",
            "                                                                 \n",
            " bidirectional_1 (Bidirectio  (None, 1250, 600)        734400    \n",
            " nal)                                                            \n",
            "                                                                 \n",
            " spatial_dropout1d_2 (Spatia  (None, 1250, 600)        0         \n",
            " lDropout1D)                                                     \n",
            "                                                                 \n",
            " conv1d_2 (Conv1D)           (None, 1250, 5)           9005      \n",
            "                                                                 \n",
            " leaky_re_lu_2 (LeakyReLU)   (None, 1250, 5)           0         \n",
            "                                                                 \n",
            " max_pooling1d_2 (MaxPooling  (None, 625, 5)           0         \n",
            " 1D)                                                             \n",
            "                                                                 \n",
            " bidirectional_2 (Bidirectio  (None, 600)              734400    \n",
            " nal)                                                            \n",
            "                                                                 \n",
            " dense (Dense)               (None, 5)                 3005      \n",
            "                                                                 \n",
            "=================================================================\n",
            "Total params: 6,319,964\n",
            "Trainable params: 2,225,660\n",
            "Non-trainable params: 4,094,304\n",
            "_________________________________________________________________\n"
          ]
        }
      ],
      "source": [
        "model.summary()"
      ]
    },
    {
      "cell_type": "code",
      "execution_count": null,
      "metadata": {
        "id": "AtF8LSHl5OmH"
      },
      "outputs": [],
      "source": [
        "from sklearn.model_selection import train_test_split\n",
        "from tensorflow.keras.utils import to_categorical\n",
        "from tensorflow.keras.preprocessing.sequence import pad_sequences\n",
        "categorical_labels = to_categorical(list(df_final[\"group\"]),num_classes=5)\n",
        "X_train, X_test, Y_train, Y_test = train_test_split(list(df_final[\"tweet\"]), categorical_labels, test_size=0.2)"
      ]
    },
    {
      "cell_type": "code",
      "execution_count": null,
      "metadata": {
        "colab": {
          "background_save": true,
          "base_uri": "https://localhost:8080/"
        },
        "id": "bkrt88rY5RKT",
        "outputId": "11ac160d-a58d-41e1-cf5a-7375147b4546"
      },
      "outputs": [
        {
          "name": "stdout",
          "output_type": "stream",
          "text": [
            "Epoch 1/13\n",
            "75/75 [==============================] - 3615s 48s/step - loss: 1.5580 - accuracy: 0.3014 - auc: 0.5993 - f1_score: 0.1519 - val_loss: 1.4320 - val_accuracy: 0.3883 - val_auc: 0.7092 - val_f1_score: 0.2336\n",
            "Epoch 2/13\n",
            "75/75 [==============================] - 3798s 51s/step - loss: 1.4187 - accuracy: 0.3534 - auc: 0.7139 - f1_score: 0.2552 - val_loss: 1.3621 - val_accuracy: 0.3725 - val_auc: 0.7405 - val_f1_score: 0.2989\n",
            "Epoch 3/13\n",
            "75/75 [==============================] - 3879s 52s/step - loss: 1.3288 - accuracy: 0.3798 - auc: 0.7561 - f1_score: 0.3403 - val_loss: 1.2574 - val_accuracy: 0.4258 - val_auc: 0.7868 - val_f1_score: 0.3549\n",
            "Epoch 4/13\n",
            "75/75 [==============================] - 3907s 52s/step - loss: 1.2711 - accuracy: 0.4090 - auc: 0.7804 - f1_score: 0.3835 - val_loss: 1.1596 - val_accuracy: 0.4804 - val_auc: 0.8226 - val_f1_score: 0.3653\n",
            "Epoch 5/13\n",
            "75/75 [==============================] - 3942s 53s/step - loss: 1.2194 - accuracy: 0.4354 - auc: 0.8002 - f1_score: 0.4188 - val_loss: 1.0917 - val_accuracy: 0.4871 - val_auc: 0.8416 - val_f1_score: 0.4601\n",
            "Epoch 6/13\n",
            "75/75 [==============================] - 4005s 53s/step - loss: 1.1734 - accuracy: 0.4509 - auc: 0.8156 - f1_score: 0.4405 - val_loss: 1.0815 - val_accuracy: 0.4871 - val_auc: 0.8451 - val_f1_score: 0.4729\n",
            "Epoch 7/13\n",
            "75/75 [==============================] - 3934s 52s/step - loss: 1.2020 - accuracy: 0.4485 - auc: 0.8066 - f1_score: 0.4449 - val_loss: 1.0945 - val_accuracy: 0.5046 - val_auc: 0.8436 - val_f1_score: 0.4476\n",
            "Epoch 8/13\n",
            "75/75 [==============================] - 3965s 53s/step - loss: 1.1243 - accuracy: 0.4945 - auc: 0.8329 - f1_score: 0.4808 - val_loss: 1.0555 - val_accuracy: 0.5358 - val_auc: 0.8538 - val_f1_score: 0.5335\n",
            "Epoch 9/13\n",
            "75/75 [==============================] - 3994s 53s/step - loss: 1.0704 - accuracy: 0.5342 - auc: 0.8512 - f1_score: 0.5209 - val_loss: 0.9796 - val_accuracy: 0.5942 - val_auc: 0.8774 - val_f1_score: 0.5264\n",
            "Epoch 10/13\n",
            "75/75 [==============================] - 3963s 53s/step - loss: 1.0159 - accuracy: 0.5635 - auc: 0.8673 - f1_score: 0.5464 - val_loss: 0.9291 - val_accuracy: 0.6108 - val_auc: 0.8903 - val_f1_score: 0.5933\n",
            "Epoch 11/13\n",
            "75/75 [==============================] - 4006s 53s/step - loss: 0.9954 - accuracy: 0.5834 - auc: 0.8732 - f1_score: 0.5652 - val_loss: 0.8879 - val_accuracy: 0.6413 - val_auc: 0.9000 - val_f1_score: 0.5604\n",
            "Epoch 12/13\n",
            "75/75 [==============================] - 4102s 55s/step - loss: 0.9957 - accuracy: 0.5842 - auc: 0.8735 - f1_score: 0.5688 - val_loss: 0.9190 - val_accuracy: 0.6146 - val_auc: 0.8930 - val_f1_score: 0.5879\n",
            "Epoch 13/13\n",
            "75/75 [==============================] - 4001s 53s/step - loss: 0.9661 - accuracy: 0.5985 - auc: 0.8809 - f1_score: 0.5799 - val_loss: 0.9091 - val_accuracy: 0.6246 - val_auc: 0.8959 - val_f1_score: 0.5732\n"
          ]
        }
      ],
      "source": [
        "history = model.fit(pad_sequences(tokenizer.texts_to_sequences(X_train),maxlen=MAX_SEQUENCE_LENGTH),Y_train,batch_size=128,epochs=13,\n",
        "validation_data=(pad_sequences(tokenizer.texts_to_sequences(X_test),maxlen=MAX_SEQUENCE_LENGTH),Y_test),shuffle=True)"
      ]
    },
    {
      "cell_type": "code",
      "execution_count": null,
      "metadata": {
        "colab": {
          "background_save": true
        },
        "id": "RtyxsfBKhfn4",
        "outputId": "70f5c935-2429-40ba-dfce-9414f8aad137"
      },
      "outputs": [
        {
          "data": {
            "text/plain": [
              "dict_keys(['loss', 'accuracy', 'auc', 'f1_score', 'val_loss', 'val_accuracy', 'val_auc', 'val_f1_score'])"
            ]
          },
          "execution_count": null,
          "metadata": {},
          "output_type": "execute_result"
        }
      ],
      "source": [
        "history_dict = history.history\n",
        "history_dict.keys()"
      ]
    },
    {
      "cell_type": "code",
      "execution_count": null,
      "metadata": {
        "colab": {
          "background_save": true
        },
        "id": "k4NmvXCWiqQ5",
        "outputId": "519d5b33-3334-4cae-a6e6-7c48bc9bfbc8"
      },
      "outputs": [
        {
          "data": {
            "image/png": "[encoded data removed]",
            "text/plain": [
              "<Figure size 432x288 with 1 Axes>"
            ]
          },
          "metadata": {},
          "output_type": "display_data"
        }
      ],
      "source": [
        "acc = history_dict['accuracy']\n",
        "val_acc = history_dict['val_accuracy']\n",
        "loss = history_dict['loss']\n",
        "val_loss = history_dict['val_loss']\n",
        "\n",
        "auc = history_dict['auc']\n",
        "val_auc = history_dict['val_auc']\n",
        "\n",
        "f1_score = history_dict['f1_score']\n",
        "val_f1_score = history_dict['val_f1_score']\n",
        "\n",
        "\n",
        "\n",
        "epochs = range(1, len(acc) + 1)\n",
        "\n",
        "# \"bo\" is for \"blue dot\"\n",
        "plt.plot(epochs, loss, 'bo', label='Training Loss')\n",
        "# b is for \"solid blue line\"\n",
        "plt.plot(epochs, val_loss, 'b', label='Validation Loss')\n",
        "plt.title('Training and Validation Loss')\n",
        "plt.xlabel('Epochs')\n",
        "plt.ylabel('Loss')\n",
        "plt.legend()\n",
        "\n",
        "plt.show()"
      ]
    },
    {
      "cell_type": "code",
      "execution_count": null,
      "metadata": {
        "colab": {
          "background_save": true
        },
        "id": "K0AeQ18HiusI",
        "outputId": "ad0fac4a-0a4a-4f52-f6a9-aa25c531efd4"
      },
      "outputs": [
        {
          "data": {
            "image/png": "[encoded data removed]",
            "text/plain": [
              "<Figure size 432x288 with 1 Axes>"
            ]
          },
          "metadata": {},
          "output_type": "display_data"
        }
      ],
      "source": [
        "plt.clf()   # clear figure\n",
        "\n",
        "plt.plot(epochs, acc, 'bo', label='Training Acc')\n",
        "plt.plot(epochs, val_acc, 'b', label='Validation Acc')\n",
        "plt.title('Training and Validation Accuracy')\n",
        "plt.xlabel('Epochs')\n",
        "plt.ylabel('Accuracy')\n",
        "plt.legend()\n",
        "\n",
        "plt.show()"
      ]
    },
    {
      "cell_type": "code",
      "execution_count": null,
      "metadata": {
        "colab": {
          "background_save": true
        },
        "id": "RwcIiBPzixPM",
        "outputId": "33710dba-d034-4839-b37a-654d5033aa3c"
      },
      "outputs": [
        {
          "data": {
            "image/png": "[encoded data removed]",
            "text/plain": [
              "<Figure size 432x288 with 1 Axes>"
            ]
          },
          "metadata": {},
          "output_type": "display_data"
        }
      ],
      "source": [
        "plt.clf()   # clear figure\n",
        "\n",
        "plt.plot(epochs, auc, 'bo', label='Training AUC')\n",
        "plt.plot(epochs, val_auc, 'b', label='Validation AUC')\n",
        "plt.title('Training and Validation AUC')\n",
        "plt.xlabel('Epochs')\n",
        "plt.ylabel('AUC')\n",
        "plt.legend()\n",
        "\n",
        "plt.show()"
      ]
    },
    {
      "cell_type": "code",
      "execution_count": null,
      "metadata": {
        "colab": {
          "background_save": true
        },
        "id": "6Wd_hcHki0lF",
        "outputId": "3a0400f7-2000-46d0-c1b5-bb0da7be88f3"
      },
      "outputs": [
        {
          "data": {
            "image/png": "[encoded data removed]",
            "text/plain": [
              "<Figure size 432x288 with 1 Axes>"
            ]
          },
          "metadata": {},
          "output_type": "display_data"
        }
      ],
      "source": [
        "plt.clf()   # clear figure\n",
        "\n",
        "plt.plot(epochs, f1_score, 'bo', label='Training F1 Score')\n",
        "plt.plot(epochs, val_f1_score, 'b', label='Validation F1 Score')\n",
        "plt.title('Training and Validation F1 Score')\n",
        "plt.xlabel('Epochs')\n",
        "plt.ylabel('F1 Score')\n",
        "plt.legend()\n",
        "\n",
        "plt.show()"
      ]
    },
    {
      "cell_type": "markdown",
      "metadata": {
        "id": "nJxz7G-A3yPN"
      },
      "source": [
        "## saving model"
      ]
    },
    {
      "cell_type": "code",
      "execution_count": null,
      "metadata": {
        "colab": {
          "background_save": true
        },
        "id": "t4sAYtTU30aU",
        "outputId": "c59e5b17-4944-46c8-982a-0e4766a25731"
      },
      "outputs": [
        {
          "name": "stdout",
          "output_type": "stream",
          "text": [
            "INFO:tensorflow:Assets written to: /content/drive/My Drive/hs_final_models/hs_model_specific_final/assets\n"
          ]
        },
        {
          "name": "stderr",
          "output_type": "stream",
          "text": [
            "WARNING:absl:<keras.layers.recurrent.LSTMCell object at 0x7fc41e90f410> has the same name 'LSTMCell' as a built-in Keras object. Consider renaming <class 'keras.layers.recurrent.LSTMCell'> to avoid naming conflicts when loading with `tf.keras.models.load_model`. If renaming is not possible, pass the object in the `custom_objects` parameter of the load function.\n",
            "WARNING:absl:<keras.layers.recurrent.LSTMCell object at 0x7fc41e906a90> has the same name 'LSTMCell' as a built-in Keras object. Consider renaming <class 'keras.layers.recurrent.LSTMCell'> to avoid naming conflicts when loading with `tf.keras.models.load_model`. If renaming is not possible, pass the object in the `custom_objects` parameter of the load function.\n",
            "WARNING:absl:<keras.layers.recurrent.LSTMCell object at 0x7fc41e78df10> has the same name 'LSTMCell' as a built-in Keras object. Consider renaming <class 'keras.layers.recurrent.LSTMCell'> to avoid naming conflicts when loading with `tf.keras.models.load_model`. If renaming is not possible, pass the object in the `custom_objects` parameter of the load function.\n",
            "WARNING:absl:<keras.layers.recurrent.LSTMCell object at 0x7fc41e793ad0> has the same name 'LSTMCell' as a built-in Keras object. Consider renaming <class 'keras.layers.recurrent.LSTMCell'> to avoid naming conflicts when loading with `tf.keras.models.load_model`. If renaming is not possible, pass the object in the `custom_objects` parameter of the load function.\n",
            "WARNING:absl:<keras.layers.recurrent.LSTMCell object at 0x7fc41e696210> has the same name 'LSTMCell' as a built-in Keras object. Consider renaming <class 'keras.layers.recurrent.LSTMCell'> to avoid naming conflicts when loading with `tf.keras.models.load_model`. If renaming is not possible, pass the object in the `custom_objects` parameter of the load function.\n",
            "WARNING:absl:<keras.layers.recurrent.LSTMCell object at 0x7fc41e691550> has the same name 'LSTMCell' as a built-in Keras object. Consider renaming <class 'keras.layers.recurrent.LSTMCell'> to avoid naming conflicts when loading with `tf.keras.models.load_model`. If renaming is not possible, pass the object in the `custom_objects` parameter of the load function.\n"
          ]
        }
      ],
      "source": [
        "model.save(\"/content/drive/My Drive/hs_final_models/hs_model_specific_final\")"
      ]
    },
    {
      "cell_type": "code",
      "execution_count": null,
      "metadata": {
        "id": "W3PmVZJv98bs"
      },
      "outputs": [],
      "source": [
        ""
      ]
    }
  ],
  "metadata": {
    "colab": {
      "collapsed_sections": [],
      "machine_shape": "hm",
      "name": "hs_model_specific_final.ipynb",
      "provenance": [],
      "authorship_tag": "ABX9TyOglzI7Qo1gUNVD64mXQB2K",
      "include_colab_link": true
    },
    "kernelspec": {
      "display_name": "Python 3",
      "name": "python3"
    },
    "language_info": {
      "name": "python"
    }
  },
  "nbformat": 4,
  "nbformat_minor": 0
}